{
 "cells": [
  {
   "cell_type": "code",
   "execution_count": 1,
   "id": "eb735d54",
   "metadata": {
    "_cell_guid": "b1076dfc-b9ad-4769-8c92-a6c4dae69d19",
    "_uuid": "8f2839f25d086af736a60e9eeb907d3b93b6e0e5",
    "execution": {
     "iopub.execute_input": "2024-11-22T10:36:43.577684Z",
     "iopub.status.busy": "2024-11-22T10:36:43.577269Z",
     "iopub.status.idle": "2024-11-22T10:36:44.660819Z",
     "shell.execute_reply": "2024-11-22T10:36:44.659141Z"
    },
    "papermill": {
     "duration": 1.101227,
     "end_time": "2024-11-22T10:36:44.663495",
     "exception": false,
     "start_time": "2024-11-22T10:36:43.562268",
     "status": "completed"
    },
    "tags": []
   },
   "outputs": [
    {
     "name": "stdout",
     "output_type": "stream",
     "text": [
      "/kaggle/input/predict-the-success-of-bank-telemarketing/sample_submission.csv\n",
      "/kaggle/input/predict-the-success-of-bank-telemarketing/train.csv\n",
      "/kaggle/input/predict-the-success-of-bank-telemarketing/test.csv\n"
     ]
    }
   ],
   "source": [
    "# This Python 3 environment comes with many helpful analytics libraries installed\n",
    "# It is defined by the kaggle/python Docker image: https://github.com/kaggle/docker-python\n",
    "# For example, here's several helpful packages to load\n",
    "\n",
    "import numpy as np # linear algebra\n",
    "import pandas as pd # data processing, CSV file I/O (e.g. pd.read_csv)\n",
    "\n",
    "# Input data files are available in the read-only \"../input/\" directory\n",
    "# For example, running this (by clicking run or pressing Shift+Enter) will list all files under the input directory\n",
    "\n",
    "import os\n",
    "for dirname, _, filenames in os.walk('/kaggle/input'):\n",
    "    for filename in filenames:\n",
    "        print(os.path.join(dirname, filename))\n",
    "\n",
    "# You can write up to 20GB to the current directory (/kaggle/working/) that gets preserved as output when you create a version using \"Save & Run All\" \n",
    "# You can also write temporary files to /kaggle/temp/, but they won't be saved outside of the current session"
   ]
  },
  {
   "cell_type": "markdown",
   "id": "51fce6df",
   "metadata": {
    "execution": {
     "iopub.execute_input": "2024-11-15T13:17:23.730233Z",
     "iopub.status.busy": "2024-11-15T13:17:23.728733Z",
     "iopub.status.idle": "2024-11-15T13:17:23.738330Z",
     "shell.execute_reply": "2024-11-15T13:17:23.736349Z",
     "shell.execute_reply.started": "2024-11-15T13:17:23.730183Z"
    },
    "papermill": {
     "duration": 0.012378,
     "end_time": "2024-11-22T10:36:44.689970",
     "exception": false,
     "start_time": "2024-11-22T10:36:44.677592",
     "status": "completed"
    },
    "tags": []
   },
   "source": [
    "**Importing Liabraries**"
   ]
  },
  {
   "cell_type": "code",
   "execution_count": 2,
   "id": "a48bfe1e",
   "metadata": {
    "execution": {
     "iopub.execute_input": "2024-11-22T10:36:44.721353Z",
     "iopub.status.busy": "2024-11-22T10:36:44.720586Z",
     "iopub.status.idle": "2024-11-22T10:36:47.749247Z",
     "shell.execute_reply": "2024-11-22T10:36:47.747798Z"
    },
    "papermill": {
     "duration": 3.047012,
     "end_time": "2024-11-22T10:36:47.752120",
     "exception": false,
     "start_time": "2024-11-22T10:36:44.705108",
     "status": "completed"
    },
    "tags": []
   },
   "outputs": [],
   "source": [
    "import matplotlib.pyplot as plt\n",
    "import seaborn as sns\n",
    "from sklearn import preprocessing\n",
    "from sklearn.model_selection import train_test_split,RandomizedSearchCV\n",
    "from sklearn.impute import SimpleImputer\n",
    "from sklearn.pipeline import Pipeline\n",
    "from sklearn.feature_selection import RFE\n",
    "from sklearn.preprocessing import OneHotEncoder,FunctionTransformer, StandardScaler,LabelEncoder\n",
    "from sklearn.compose import ColumnTransformer\n",
    "from sklearn.linear_model import LogisticRegression\n",
    "from sklearn.metrics import f1_score\n",
    "from sklearn.dummy import DummyClassifier\n",
    "from sklearn.ensemble import RandomForestClassifier, GradientBoostingClassifier\n",
    "from sklearn.metrics import f1_score\n",
    "from xgboost import XGBClassifier\n",
    "from sklearn.naive_bayes import GaussianNB\n",
    "from sklearn.neighbors import KNeighborsClassifier\n",
    "from sklearn.svm import SVC\n",
    "\n",
    "from sklearn.ensemble import VotingClassifier"
   ]
  },
  {
   "cell_type": "markdown",
   "id": "aaadf648",
   "metadata": {
    "papermill": {
     "duration": 0.011677,
     "end_time": "2024-11-22T10:36:47.775883",
     "exception": false,
     "start_time": "2024-11-22T10:36:47.764206",
     "status": "completed"
    },
    "tags": []
   },
   "source": [
    "**Loading Data**"
   ]
  },
  {
   "cell_type": "code",
   "execution_count": 3,
   "id": "1dc413e8",
   "metadata": {
    "execution": {
     "iopub.execute_input": "2024-11-22T10:36:47.802108Z",
     "iopub.status.busy": "2024-11-22T10:36:47.801510Z",
     "iopub.status.idle": "2024-11-22T10:36:47.990944Z",
     "shell.execute_reply": "2024-11-22T10:36:47.989811Z"
    },
    "papermill": {
     "duration": 0.205689,
     "end_time": "2024-11-22T10:36:47.993630",
     "exception": false,
     "start_time": "2024-11-22T10:36:47.787941",
     "status": "completed"
    },
    "tags": []
   },
   "outputs": [],
   "source": [
    "train_df=pd.read_csv( \"/kaggle/input/predict-the-success-of-bank-telemarketing/train.csv\")\n",
    "test_df=pd.read_csv('/kaggle/input/predict-the-success-of-bank-telemarketing/test.csv')"
   ]
  },
  {
   "cell_type": "code",
   "execution_count": 4,
   "id": "1fd8dcff",
   "metadata": {
    "execution": {
     "iopub.execute_input": "2024-11-22T10:36:48.021427Z",
     "iopub.status.busy": "2024-11-22T10:36:48.020857Z",
     "iopub.status.idle": "2024-11-22T10:36:48.048178Z",
     "shell.execute_reply": "2024-11-22T10:36:48.046751Z"
    },
    "papermill": {
     "duration": 0.044902,
     "end_time": "2024-11-22T10:36:48.051169",
     "exception": false,
     "start_time": "2024-11-22T10:36:48.006267",
     "status": "completed"
    },
    "tags": []
   },
   "outputs": [
    {
     "data": {
      "text/html": [
       "<div>\n",
       "<style scoped>\n",
       "    .dataframe tbody tr th:only-of-type {\n",
       "        vertical-align: middle;\n",
       "    }\n",
       "\n",
       "    .dataframe tbody tr th {\n",
       "        vertical-align: top;\n",
       "    }\n",
       "\n",
       "    .dataframe thead th {\n",
       "        text-align: right;\n",
       "    }\n",
       "</style>\n",
       "<table border=\"1\" class=\"dataframe\">\n",
       "  <thead>\n",
       "    <tr style=\"text-align: right;\">\n",
       "      <th></th>\n",
       "      <th>0</th>\n",
       "      <th>1</th>\n",
       "      <th>2</th>\n",
       "      <th>3</th>\n",
       "      <th>4</th>\n",
       "      <th>5</th>\n",
       "      <th>6</th>\n",
       "      <th>7</th>\n",
       "      <th>8</th>\n",
       "      <th>9</th>\n",
       "    </tr>\n",
       "  </thead>\n",
       "  <tbody>\n",
       "    <tr>\n",
       "      <th>last contact date</th>\n",
       "      <td>2009-04-17</td>\n",
       "      <td>2009-10-11</td>\n",
       "      <td>2010-11-20</td>\n",
       "      <td>2009-09-01</td>\n",
       "      <td>2008-01-29</td>\n",
       "      <td>2009-05-07</td>\n",
       "      <td>2009-05-15</td>\n",
       "      <td>2010-05-08</td>\n",
       "      <td>2008-12-13</td>\n",
       "      <td>2010-05-21</td>\n",
       "    </tr>\n",
       "    <tr>\n",
       "      <th>age</th>\n",
       "      <td>26</td>\n",
       "      <td>52</td>\n",
       "      <td>44</td>\n",
       "      <td>33</td>\n",
       "      <td>31</td>\n",
       "      <td>25</td>\n",
       "      <td>46</td>\n",
       "      <td>37</td>\n",
       "      <td>38</td>\n",
       "      <td>31</td>\n",
       "    </tr>\n",
       "    <tr>\n",
       "      <th>job</th>\n",
       "      <td>blue-collar</td>\n",
       "      <td>technician</td>\n",
       "      <td>blue-collar</td>\n",
       "      <td>admin.</td>\n",
       "      <td>entrepreneur</td>\n",
       "      <td>entrepreneur</td>\n",
       "      <td>blue-collar</td>\n",
       "      <td>admin.</td>\n",
       "      <td>unemployed</td>\n",
       "      <td>technician</td>\n",
       "    </tr>\n",
       "    <tr>\n",
       "      <th>marital</th>\n",
       "      <td>married</td>\n",
       "      <td>married</td>\n",
       "      <td>married</td>\n",
       "      <td>married</td>\n",
       "      <td>single</td>\n",
       "      <td>single</td>\n",
       "      <td>married</td>\n",
       "      <td>married</td>\n",
       "      <td>divorced</td>\n",
       "      <td>married</td>\n",
       "    </tr>\n",
       "    <tr>\n",
       "      <th>education</th>\n",
       "      <td>secondary</td>\n",
       "      <td>secondary</td>\n",
       "      <td>secondary</td>\n",
       "      <td>secondary</td>\n",
       "      <td>tertiary</td>\n",
       "      <td>tertiary</td>\n",
       "      <td>secondary</td>\n",
       "      <td>secondary</td>\n",
       "      <td>primary</td>\n",
       "      <td>secondary</td>\n",
       "    </tr>\n",
       "    <tr>\n",
       "      <th>default</th>\n",
       "      <td>no</td>\n",
       "      <td>no</td>\n",
       "      <td>no</td>\n",
       "      <td>no</td>\n",
       "      <td>no</td>\n",
       "      <td>no</td>\n",
       "      <td>no</td>\n",
       "      <td>no</td>\n",
       "      <td>yes</td>\n",
       "      <td>no</td>\n",
       "    </tr>\n",
       "    <tr>\n",
       "      <th>balance</th>\n",
       "      <td>647</td>\n",
       "      <td>553</td>\n",
       "      <td>1397</td>\n",
       "      <td>394</td>\n",
       "      <td>137</td>\n",
       "      <td>140</td>\n",
       "      <td>668</td>\n",
       "      <td>14</td>\n",
       "      <td>14123</td>\n",
       "      <td>589</td>\n",
       "    </tr>\n",
       "    <tr>\n",
       "      <th>housing</th>\n",
       "      <td>yes</td>\n",
       "      <td>yes</td>\n",
       "      <td>no</td>\n",
       "      <td>yes</td>\n",
       "      <td>no</td>\n",
       "      <td>yes</td>\n",
       "      <td>yes</td>\n",
       "      <td>yes</td>\n",
       "      <td>yes</td>\n",
       "      <td>yes</td>\n",
       "    </tr>\n",
       "    <tr>\n",
       "      <th>loan</th>\n",
       "      <td>no</td>\n",
       "      <td>no</td>\n",
       "      <td>no</td>\n",
       "      <td>no</td>\n",
       "      <td>no</td>\n",
       "      <td>no</td>\n",
       "      <td>no</td>\n",
       "      <td>no</td>\n",
       "      <td>yes</td>\n",
       "      <td>yes</td>\n",
       "    </tr>\n",
       "    <tr>\n",
       "      <th>contact</th>\n",
       "      <td>cellular</td>\n",
       "      <td>telephone</td>\n",
       "      <td>cellular</td>\n",
       "      <td>telephone</td>\n",
       "      <td>cellular</td>\n",
       "      <td>cellular</td>\n",
       "      <td>NaN</td>\n",
       "      <td>NaN</td>\n",
       "      <td>cellular</td>\n",
       "      <td>NaN</td>\n",
       "    </tr>\n",
       "    <tr>\n",
       "      <th>duration</th>\n",
       "      <td>357</td>\n",
       "      <td>160</td>\n",
       "      <td>326</td>\n",
       "      <td>104</td>\n",
       "      <td>445</td>\n",
       "      <td>348</td>\n",
       "      <td>1263</td>\n",
       "      <td>176</td>\n",
       "      <td>2370</td>\n",
       "      <td>151</td>\n",
       "    </tr>\n",
       "    <tr>\n",
       "      <th>campaign</th>\n",
       "      <td>2</td>\n",
       "      <td>1</td>\n",
       "      <td>1</td>\n",
       "      <td>3</td>\n",
       "      <td>2</td>\n",
       "      <td>1</td>\n",
       "      <td>2</td>\n",
       "      <td>2</td>\n",
       "      <td>4</td>\n",
       "      <td>1</td>\n",
       "    </tr>\n",
       "    <tr>\n",
       "      <th>pdays</th>\n",
       "      <td>331</td>\n",
       "      <td>-1</td>\n",
       "      <td>-1</td>\n",
       "      <td>-1</td>\n",
       "      <td>-1</td>\n",
       "      <td>-1</td>\n",
       "      <td>-1</td>\n",
       "      <td>-1</td>\n",
       "      <td>852</td>\n",
       "      <td>-1</td>\n",
       "    </tr>\n",
       "    <tr>\n",
       "      <th>previous</th>\n",
       "      <td>1</td>\n",
       "      <td>0</td>\n",
       "      <td>0</td>\n",
       "      <td>0</td>\n",
       "      <td>0</td>\n",
       "      <td>0</td>\n",
       "      <td>0</td>\n",
       "      <td>0</td>\n",
       "      <td>4</td>\n",
       "      <td>0</td>\n",
       "    </tr>\n",
       "    <tr>\n",
       "      <th>poutcome</th>\n",
       "      <td>other</td>\n",
       "      <td>NaN</td>\n",
       "      <td>NaN</td>\n",
       "      <td>NaN</td>\n",
       "      <td>NaN</td>\n",
       "      <td>NaN</td>\n",
       "      <td>NaN</td>\n",
       "      <td>NaN</td>\n",
       "      <td>other</td>\n",
       "      <td>NaN</td>\n",
       "    </tr>\n",
       "    <tr>\n",
       "      <th>target</th>\n",
       "      <td>no</td>\n",
       "      <td>no</td>\n",
       "      <td>no</td>\n",
       "      <td>no</td>\n",
       "      <td>no</td>\n",
       "      <td>no</td>\n",
       "      <td>yes</td>\n",
       "      <td>no</td>\n",
       "      <td>no</td>\n",
       "      <td>no</td>\n",
       "    </tr>\n",
       "  </tbody>\n",
       "</table>\n",
       "</div>"
      ],
      "text/plain": [
       "                             0           1            2           3  \\\n",
       "last contact date   2009-04-17  2009-10-11   2010-11-20  2009-09-01   \n",
       "age                         26          52           44          33   \n",
       "job                blue-collar  technician  blue-collar      admin.   \n",
       "marital                married     married      married     married   \n",
       "education            secondary   secondary    secondary   secondary   \n",
       "default                     no          no           no          no   \n",
       "balance                    647         553         1397         394   \n",
       "housing                    yes         yes           no         yes   \n",
       "loan                        no          no           no          no   \n",
       "contact               cellular   telephone     cellular   telephone   \n",
       "duration                   357         160          326         104   \n",
       "campaign                     2           1            1           3   \n",
       "pdays                      331          -1           -1          -1   \n",
       "previous                     1           0            0           0   \n",
       "poutcome                 other         NaN          NaN         NaN   \n",
       "target                      no          no           no          no   \n",
       "\n",
       "                              4             5            6           7  \\\n",
       "last contact date    2008-01-29    2009-05-07   2009-05-15  2010-05-08   \n",
       "age                          31            25           46          37   \n",
       "job                entrepreneur  entrepreneur  blue-collar      admin.   \n",
       "marital                  single        single      married     married   \n",
       "education              tertiary      tertiary    secondary   secondary   \n",
       "default                      no            no           no          no   \n",
       "balance                     137           140          668          14   \n",
       "housing                      no           yes          yes         yes   \n",
       "loan                         no            no           no          no   \n",
       "contact                cellular      cellular          NaN         NaN   \n",
       "duration                    445           348         1263         176   \n",
       "campaign                      2             1            2           2   \n",
       "pdays                        -1            -1           -1          -1   \n",
       "previous                      0             0            0           0   \n",
       "poutcome                    NaN           NaN          NaN         NaN   \n",
       "target                       no            no          yes          no   \n",
       "\n",
       "                            8           9  \n",
       "last contact date  2008-12-13  2010-05-21  \n",
       "age                        38          31  \n",
       "job                unemployed  technician  \n",
       "marital              divorced     married  \n",
       "education             primary   secondary  \n",
       "default                   yes          no  \n",
       "balance                 14123         589  \n",
       "housing                   yes         yes  \n",
       "loan                      yes         yes  \n",
       "contact              cellular         NaN  \n",
       "duration                 2370         151  \n",
       "campaign                    4           1  \n",
       "pdays                     852          -1  \n",
       "previous                    4           0  \n",
       "poutcome                other         NaN  \n",
       "target                     no          no  "
      ]
     },
     "execution_count": 4,
     "metadata": {},
     "output_type": "execute_result"
    }
   ],
   "source": [
    "train_df.head(n=10).T"
   ]
  },
  {
   "cell_type": "code",
   "execution_count": 5,
   "id": "0756fc32",
   "metadata": {
    "execution": {
     "iopub.execute_input": "2024-11-22T10:36:48.080161Z",
     "iopub.status.busy": "2024-11-22T10:36:48.079762Z",
     "iopub.status.idle": "2024-11-22T10:36:48.087965Z",
     "shell.execute_reply": "2024-11-22T10:36:48.086535Z"
    },
    "papermill": {
     "duration": 0.026457,
     "end_time": "2024-11-22T10:36:48.090243",
     "exception": false,
     "start_time": "2024-11-22T10:36:48.063786",
     "status": "completed"
    },
    "tags": []
   },
   "outputs": [
    {
     "data": {
      "text/plain": [
       "(39211, 16)"
      ]
     },
     "execution_count": 5,
     "metadata": {},
     "output_type": "execute_result"
    }
   ],
   "source": [
    "train_df.shape"
   ]
  },
  {
   "cell_type": "code",
   "execution_count": 6,
   "id": "9d5a0c4f",
   "metadata": {
    "execution": {
     "iopub.execute_input": "2024-11-22T10:36:48.118208Z",
     "iopub.status.busy": "2024-11-22T10:36:48.117762Z",
     "iopub.status.idle": "2024-11-22T10:36:48.254342Z",
     "shell.execute_reply": "2024-11-22T10:36:48.252816Z"
    },
    "papermill": {
     "duration": 0.153361,
     "end_time": "2024-11-22T10:36:48.257146",
     "exception": false,
     "start_time": "2024-11-22T10:36:48.103785",
     "status": "completed"
    },
    "tags": []
   },
   "outputs": [
    {
     "data": {
      "text/html": [
       "<div>\n",
       "<style scoped>\n",
       "    .dataframe tbody tr th:only-of-type {\n",
       "        vertical-align: middle;\n",
       "    }\n",
       "\n",
       "    .dataframe tbody tr th {\n",
       "        vertical-align: top;\n",
       "    }\n",
       "\n",
       "    .dataframe thead th {\n",
       "        text-align: right;\n",
       "    }\n",
       "</style>\n",
       "<table border=\"1\" class=\"dataframe\">\n",
       "  <thead>\n",
       "    <tr style=\"text-align: right;\">\n",
       "      <th></th>\n",
       "      <th>count</th>\n",
       "      <th>unique</th>\n",
       "      <th>top</th>\n",
       "      <th>freq</th>\n",
       "      <th>mean</th>\n",
       "      <th>std</th>\n",
       "      <th>min</th>\n",
       "      <th>25%</th>\n",
       "      <th>50%</th>\n",
       "      <th>75%</th>\n",
       "      <th>max</th>\n",
       "    </tr>\n",
       "  </thead>\n",
       "  <tbody>\n",
       "    <tr>\n",
       "      <th>last contact date</th>\n",
       "      <td>39211</td>\n",
       "      <td>1013</td>\n",
       "      <td>2009-05-15</td>\n",
       "      <td>313</td>\n",
       "      <td>NaN</td>\n",
       "      <td>NaN</td>\n",
       "      <td>NaN</td>\n",
       "      <td>NaN</td>\n",
       "      <td>NaN</td>\n",
       "      <td>NaN</td>\n",
       "      <td>NaN</td>\n",
       "    </tr>\n",
       "    <tr>\n",
       "      <th>age</th>\n",
       "      <td>39211.0</td>\n",
       "      <td>NaN</td>\n",
       "      <td>NaN</td>\n",
       "      <td>NaN</td>\n",
       "      <td>42.120247</td>\n",
       "      <td>12.709352</td>\n",
       "      <td>18.0</td>\n",
       "      <td>33.0</td>\n",
       "      <td>40.0</td>\n",
       "      <td>50.0</td>\n",
       "      <td>95.0</td>\n",
       "    </tr>\n",
       "    <tr>\n",
       "      <th>job</th>\n",
       "      <td>38982</td>\n",
       "      <td>11</td>\n",
       "      <td>blue-collar</td>\n",
       "      <td>7776</td>\n",
       "      <td>NaN</td>\n",
       "      <td>NaN</td>\n",
       "      <td>NaN</td>\n",
       "      <td>NaN</td>\n",
       "      <td>NaN</td>\n",
       "      <td>NaN</td>\n",
       "      <td>NaN</td>\n",
       "    </tr>\n",
       "    <tr>\n",
       "      <th>marital</th>\n",
       "      <td>39211</td>\n",
       "      <td>3</td>\n",
       "      <td>married</td>\n",
       "      <td>22691</td>\n",
       "      <td>NaN</td>\n",
       "      <td>NaN</td>\n",
       "      <td>NaN</td>\n",
       "      <td>NaN</td>\n",
       "      <td>NaN</td>\n",
       "      <td>NaN</td>\n",
       "      <td>NaN</td>\n",
       "    </tr>\n",
       "    <tr>\n",
       "      <th>education</th>\n",
       "      <td>37744</td>\n",
       "      <td>3</td>\n",
       "      <td>secondary</td>\n",
       "      <td>19584</td>\n",
       "      <td>NaN</td>\n",
       "      <td>NaN</td>\n",
       "      <td>NaN</td>\n",
       "      <td>NaN</td>\n",
       "      <td>NaN</td>\n",
       "      <td>NaN</td>\n",
       "      <td>NaN</td>\n",
       "    </tr>\n",
       "    <tr>\n",
       "      <th>default</th>\n",
       "      <td>39211</td>\n",
       "      <td>2</td>\n",
       "      <td>no</td>\n",
       "      <td>36954</td>\n",
       "      <td>NaN</td>\n",
       "      <td>NaN</td>\n",
       "      <td>NaN</td>\n",
       "      <td>NaN</td>\n",
       "      <td>NaN</td>\n",
       "      <td>NaN</td>\n",
       "      <td>NaN</td>\n",
       "    </tr>\n",
       "    <tr>\n",
       "      <th>balance</th>\n",
       "      <td>39211.0</td>\n",
       "      <td>NaN</td>\n",
       "      <td>NaN</td>\n",
       "      <td>NaN</td>\n",
       "      <td>5441.781719</td>\n",
       "      <td>16365.292065</td>\n",
       "      <td>-8019.0</td>\n",
       "      <td>98.0</td>\n",
       "      <td>549.0</td>\n",
       "      <td>2030.0</td>\n",
       "      <td>102127.0</td>\n",
       "    </tr>\n",
       "    <tr>\n",
       "      <th>housing</th>\n",
       "      <td>39211</td>\n",
       "      <td>2</td>\n",
       "      <td>yes</td>\n",
       "      <td>21657</td>\n",
       "      <td>NaN</td>\n",
       "      <td>NaN</td>\n",
       "      <td>NaN</td>\n",
       "      <td>NaN</td>\n",
       "      <td>NaN</td>\n",
       "      <td>NaN</td>\n",
       "      <td>NaN</td>\n",
       "    </tr>\n",
       "    <tr>\n",
       "      <th>loan</th>\n",
       "      <td>39211</td>\n",
       "      <td>2</td>\n",
       "      <td>no</td>\n",
       "      <td>31820</td>\n",
       "      <td>NaN</td>\n",
       "      <td>NaN</td>\n",
       "      <td>NaN</td>\n",
       "      <td>NaN</td>\n",
       "      <td>NaN</td>\n",
       "      <td>NaN</td>\n",
       "      <td>NaN</td>\n",
       "    </tr>\n",
       "    <tr>\n",
       "      <th>contact</th>\n",
       "      <td>28875</td>\n",
       "      <td>2</td>\n",
       "      <td>cellular</td>\n",
       "      <td>25030</td>\n",
       "      <td>NaN</td>\n",
       "      <td>NaN</td>\n",
       "      <td>NaN</td>\n",
       "      <td>NaN</td>\n",
       "      <td>NaN</td>\n",
       "      <td>NaN</td>\n",
       "      <td>NaN</td>\n",
       "    </tr>\n",
       "    <tr>\n",
       "      <th>duration</th>\n",
       "      <td>39211.0</td>\n",
       "      <td>NaN</td>\n",
       "      <td>NaN</td>\n",
       "      <td>NaN</td>\n",
       "      <td>439.062789</td>\n",
       "      <td>769.096291</td>\n",
       "      <td>0.0</td>\n",
       "      <td>109.0</td>\n",
       "      <td>197.0</td>\n",
       "      <td>380.0</td>\n",
       "      <td>4918.0</td>\n",
       "    </tr>\n",
       "    <tr>\n",
       "      <th>campaign</th>\n",
       "      <td>39211.0</td>\n",
       "      <td>NaN</td>\n",
       "      <td>NaN</td>\n",
       "      <td>NaN</td>\n",
       "      <td>5.10877</td>\n",
       "      <td>9.890153</td>\n",
       "      <td>1.0</td>\n",
       "      <td>1.0</td>\n",
       "      <td>2.0</td>\n",
       "      <td>4.0</td>\n",
       "      <td>63.0</td>\n",
       "    </tr>\n",
       "    <tr>\n",
       "      <th>pdays</th>\n",
       "      <td>39211.0</td>\n",
       "      <td>NaN</td>\n",
       "      <td>NaN</td>\n",
       "      <td>NaN</td>\n",
       "      <td>72.256051</td>\n",
       "      <td>160.942593</td>\n",
       "      <td>-1.0</td>\n",
       "      <td>-1.0</td>\n",
       "      <td>-1.0</td>\n",
       "      <td>-1.0</td>\n",
       "      <td>871.0</td>\n",
       "    </tr>\n",
       "    <tr>\n",
       "      <th>previous</th>\n",
       "      <td>39211.0</td>\n",
       "      <td>NaN</td>\n",
       "      <td>NaN</td>\n",
       "      <td>NaN</td>\n",
       "      <td>11.826171</td>\n",
       "      <td>44.140259</td>\n",
       "      <td>0.0</td>\n",
       "      <td>0.0</td>\n",
       "      <td>0.0</td>\n",
       "      <td>0.0</td>\n",
       "      <td>275.0</td>\n",
       "    </tr>\n",
       "    <tr>\n",
       "      <th>poutcome</th>\n",
       "      <td>9760</td>\n",
       "      <td>3</td>\n",
       "      <td>failure</td>\n",
       "      <td>4949</td>\n",
       "      <td>NaN</td>\n",
       "      <td>NaN</td>\n",
       "      <td>NaN</td>\n",
       "      <td>NaN</td>\n",
       "      <td>NaN</td>\n",
       "      <td>NaN</td>\n",
       "      <td>NaN</td>\n",
       "    </tr>\n",
       "    <tr>\n",
       "      <th>target</th>\n",
       "      <td>39211</td>\n",
       "      <td>2</td>\n",
       "      <td>no</td>\n",
       "      <td>33384</td>\n",
       "      <td>NaN</td>\n",
       "      <td>NaN</td>\n",
       "      <td>NaN</td>\n",
       "      <td>NaN</td>\n",
       "      <td>NaN</td>\n",
       "      <td>NaN</td>\n",
       "      <td>NaN</td>\n",
       "    </tr>\n",
       "  </tbody>\n",
       "</table>\n",
       "</div>"
      ],
      "text/plain": [
       "                     count unique          top   freq         mean  \\\n",
       "last contact date    39211   1013   2009-05-15    313          NaN   \n",
       "age                39211.0    NaN          NaN    NaN    42.120247   \n",
       "job                  38982     11  blue-collar   7776          NaN   \n",
       "marital              39211      3      married  22691          NaN   \n",
       "education            37744      3    secondary  19584          NaN   \n",
       "default              39211      2           no  36954          NaN   \n",
       "balance            39211.0    NaN          NaN    NaN  5441.781719   \n",
       "housing              39211      2          yes  21657          NaN   \n",
       "loan                 39211      2           no  31820          NaN   \n",
       "contact              28875      2     cellular  25030          NaN   \n",
       "duration           39211.0    NaN          NaN    NaN   439.062789   \n",
       "campaign           39211.0    NaN          NaN    NaN      5.10877   \n",
       "pdays              39211.0    NaN          NaN    NaN    72.256051   \n",
       "previous           39211.0    NaN          NaN    NaN    11.826171   \n",
       "poutcome              9760      3      failure   4949          NaN   \n",
       "target               39211      2           no  33384          NaN   \n",
       "\n",
       "                            std     min    25%    50%     75%       max  \n",
       "last contact date           NaN     NaN    NaN    NaN     NaN       NaN  \n",
       "age                   12.709352    18.0   33.0   40.0    50.0      95.0  \n",
       "job                         NaN     NaN    NaN    NaN     NaN       NaN  \n",
       "marital                     NaN     NaN    NaN    NaN     NaN       NaN  \n",
       "education                   NaN     NaN    NaN    NaN     NaN       NaN  \n",
       "default                     NaN     NaN    NaN    NaN     NaN       NaN  \n",
       "balance            16365.292065 -8019.0   98.0  549.0  2030.0  102127.0  \n",
       "housing                     NaN     NaN    NaN    NaN     NaN       NaN  \n",
       "loan                        NaN     NaN    NaN    NaN     NaN       NaN  \n",
       "contact                     NaN     NaN    NaN    NaN     NaN       NaN  \n",
       "duration             769.096291     0.0  109.0  197.0   380.0    4918.0  \n",
       "campaign               9.890153     1.0    1.0    2.0     4.0      63.0  \n",
       "pdays                160.942593    -1.0   -1.0   -1.0    -1.0     871.0  \n",
       "previous              44.140259     0.0    0.0    0.0     0.0     275.0  \n",
       "poutcome                    NaN     NaN    NaN    NaN     NaN       NaN  \n",
       "target                      NaN     NaN    NaN    NaN     NaN       NaN  "
      ]
     },
     "execution_count": 6,
     "metadata": {},
     "output_type": "execute_result"
    }
   ],
   "source": [
    "train_df.describe(include='all').T"
   ]
  },
  {
   "cell_type": "code",
   "execution_count": 7,
   "id": "96cb1cd4",
   "metadata": {
    "execution": {
     "iopub.execute_input": "2024-11-22T10:36:48.290608Z",
     "iopub.status.busy": "2024-11-22T10:36:48.290200Z",
     "iopub.status.idle": "2024-11-22T10:36:48.335465Z",
     "shell.execute_reply": "2024-11-22T10:36:48.333848Z"
    },
    "papermill": {
     "duration": 0.064847,
     "end_time": "2024-11-22T10:36:48.338721",
     "exception": false,
     "start_time": "2024-11-22T10:36:48.273874",
     "status": "completed"
    },
    "tags": []
   },
   "outputs": [
    {
     "name": "stdout",
     "output_type": "stream",
     "text": [
      "<class 'pandas.core.frame.DataFrame'>\n",
      "RangeIndex: 39211 entries, 0 to 39210\n",
      "Data columns (total 16 columns):\n",
      " #   Column             Non-Null Count  Dtype \n",
      "---  ------             --------------  ----- \n",
      " 0   last contact date  39211 non-null  object\n",
      " 1   age                39211 non-null  int64 \n",
      " 2   job                38982 non-null  object\n",
      " 3   marital            39211 non-null  object\n",
      " 4   education          37744 non-null  object\n",
      " 5   default            39211 non-null  object\n",
      " 6   balance            39211 non-null  int64 \n",
      " 7   housing            39211 non-null  object\n",
      " 8   loan               39211 non-null  object\n",
      " 9   contact            28875 non-null  object\n",
      " 10  duration           39211 non-null  int64 \n",
      " 11  campaign           39211 non-null  int64 \n",
      " 12  pdays              39211 non-null  int64 \n",
      " 13  previous           39211 non-null  int64 \n",
      " 14  poutcome           9760 non-null   object\n",
      " 15  target             39211 non-null  object\n",
      "dtypes: int64(6), object(10)\n",
      "memory usage: 4.8+ MB\n"
     ]
    }
   ],
   "source": [
    "train_df.info()"
   ]
  },
  {
   "cell_type": "code",
   "execution_count": 8,
   "id": "dd2ed4ee",
   "metadata": {
    "execution": {
     "iopub.execute_input": "2024-11-22T10:36:48.370214Z",
     "iopub.status.busy": "2024-11-22T10:36:48.369774Z",
     "iopub.status.idle": "2024-11-22T10:36:48.399865Z",
     "shell.execute_reply": "2024-11-22T10:36:48.398006Z"
    },
    "papermill": {
     "duration": 0.049763,
     "end_time": "2024-11-22T10:36:48.403092",
     "exception": false,
     "start_time": "2024-11-22T10:36:48.353329",
     "status": "completed"
    },
    "tags": []
   },
   "outputs": [
    {
     "data": {
      "text/plain": [
       "last contact date        0\n",
       "age                      0\n",
       "job                    229\n",
       "marital                  0\n",
       "education             1467\n",
       "default                  0\n",
       "balance                  0\n",
       "housing                  0\n",
       "loan                     0\n",
       "contact              10336\n",
       "duration                 0\n",
       "campaign                 0\n",
       "pdays                    0\n",
       "previous                 0\n",
       "poutcome             29451\n",
       "target                   0\n",
       "dtype: int64"
      ]
     },
     "execution_count": 8,
     "metadata": {},
     "output_type": "execute_result"
    }
   ],
   "source": [
    "train_df.isna().sum()"
   ]
  },
  {
   "cell_type": "code",
   "execution_count": 9,
   "id": "513dcbc9",
   "metadata": {
    "execution": {
     "iopub.execute_input": "2024-11-22T10:36:48.432045Z",
     "iopub.status.busy": "2024-11-22T10:36:48.431587Z",
     "iopub.status.idle": "2024-11-22T10:36:48.447544Z",
     "shell.execute_reply": "2024-11-22T10:36:48.446240Z"
    },
    "papermill": {
     "duration": 0.033818,
     "end_time": "2024-11-22T10:36:48.450303",
     "exception": false,
     "start_time": "2024-11-22T10:36:48.416485",
     "status": "completed"
    },
    "tags": []
   },
   "outputs": [
    {
     "data": {
      "text/plain": [
       "last contact date       0\n",
       "age                     0\n",
       "job                    59\n",
       "marital                 0\n",
       "education             390\n",
       "default                 0\n",
       "balance                 0\n",
       "housing                 0\n",
       "loan                    0\n",
       "contact              2684\n",
       "duration                0\n",
       "campaign                0\n",
       "pdays                   0\n",
       "previous                0\n",
       "poutcome             7508\n",
       "dtype: int64"
      ]
     },
     "execution_count": 9,
     "metadata": {},
     "output_type": "execute_result"
    }
   ],
   "source": [
    "test_df.isna().sum()"
   ]
  },
  {
   "cell_type": "markdown",
   "id": "44fe4602",
   "metadata": {
    "papermill": {
     "duration": 0.014225,
     "end_time": "2024-11-22T10:36:48.477853",
     "exception": false,
     "start_time": "2024-11-22T10:36:48.463628",
     "status": "completed"
    },
    "tags": []
   },
   "source": [
    "what is the sucess of telemarketing team to sell a term loan"
   ]
  },
  {
   "cell_type": "code",
   "execution_count": 10,
   "id": "71979a16",
   "metadata": {
    "execution": {
     "iopub.execute_input": "2024-11-22T10:36:48.507900Z",
     "iopub.status.busy": "2024-11-22T10:36:48.507419Z",
     "iopub.status.idle": "2024-11-22T10:36:48.518160Z",
     "shell.execute_reply": "2024-11-22T10:36:48.516669Z"
    },
    "papermill": {
     "duration": 0.029282,
     "end_time": "2024-11-22T10:36:48.521246",
     "exception": false,
     "start_time": "2024-11-22T10:36:48.491964",
     "status": "completed"
    },
    "tags": []
   },
   "outputs": [],
   "source": [
    "train_df['target']=np.where(train_df['target'].isin(['yes']),1,0)"
   ]
  },
  {
   "cell_type": "code",
   "execution_count": 11,
   "id": "04275673",
   "metadata": {
    "execution": {
     "iopub.execute_input": "2024-11-22T10:36:48.550846Z",
     "iopub.status.busy": "2024-11-22T10:36:48.550364Z",
     "iopub.status.idle": "2024-11-22T10:36:48.559249Z",
     "shell.execute_reply": "2024-11-22T10:36:48.557971Z"
    },
    "papermill": {
     "duration": 0.026736,
     "end_time": "2024-11-22T10:36:48.562004",
     "exception": false,
     "start_time": "2024-11-22T10:36:48.535268",
     "status": "completed"
    },
    "tags": []
   },
   "outputs": [
    {
     "data": {
      "text/plain": [
       "0.14860625844788453"
      ]
     },
     "execution_count": 11,
     "metadata": {},
     "output_type": "execute_result"
    }
   ],
   "source": [
    "train_df['target'].mean() #event rate(out of 100 calls that are made 14 take the the term loan)"
   ]
  },
  {
   "cell_type": "code",
   "execution_count": 12,
   "id": "e1c197d7",
   "metadata": {
    "execution": {
     "iopub.execute_input": "2024-11-22T10:36:48.594552Z",
     "iopub.status.busy": "2024-11-22T10:36:48.594107Z",
     "iopub.status.idle": "2024-11-22T10:36:48.869111Z",
     "shell.execute_reply": "2024-11-22T10:36:48.866922Z"
    },
    "papermill": {
     "duration": 0.297552,
     "end_time": "2024-11-22T10:36:48.874043",
     "exception": false,
     "start_time": "2024-11-22T10:36:48.576491",
     "status": "completed"
    },
    "tags": []
   },
   "outputs": [
    {
     "data": {
      "image/png": "[encoded data removed]",
      "text/plain": [
       "<Figure size 640x480 with 1 Axes>"
      ]
     },
     "metadata": {},
     "output_type": "display_data"
    }
   ],
   "source": [
    "sns.countplot(x='target',data=train_df)\n",
    "plt.show()"
   ]
  },
  {
   "cell_type": "code",
   "execution_count": 13,
   "id": "211b3b8c",
   "metadata": {
    "execution": {
     "iopub.execute_input": "2024-11-22T10:36:48.919336Z",
     "iopub.status.busy": "2024-11-22T10:36:48.918616Z",
     "iopub.status.idle": "2024-11-22T10:36:48.932205Z",
     "shell.execute_reply": "2024-11-22T10:36:48.930943Z"
    },
    "papermill": {
     "duration": 0.041584,
     "end_time": "2024-11-22T10:36:48.934550",
     "exception": false,
     "start_time": "2024-11-22T10:36:48.892966",
     "status": "completed"
    },
    "tags": []
   },
   "outputs": [
    {
     "data": {
      "text/plain": [
       "education\n",
       "secondary    19584\n",
       "tertiary     11615\n",
       "primary       6545\n",
       "Name: count, dtype: int64"
      ]
     },
     "execution_count": 13,
     "metadata": {},
     "output_type": "execute_result"
    }
   ],
   "source": [
    "train_df['education'].value_counts()"
   ]
  },
  {
   "cell_type": "code",
   "execution_count": 14,
   "id": "3ab146b7",
   "metadata": {
    "execution": {
     "iopub.execute_input": "2024-11-22T10:36:48.968128Z",
     "iopub.status.busy": "2024-11-22T10:36:48.966625Z",
     "iopub.status.idle": "2024-11-22T10:36:49.603061Z",
     "shell.execute_reply": "2024-11-22T10:36:49.601813Z"
    },
    "papermill": {
     "duration": 0.655351,
     "end_time": "2024-11-22T10:36:49.605443",
     "exception": false,
     "start_time": "2024-11-22T10:36:48.950092",
     "status": "completed"
    },
    "tags": []
   },
   "outputs": [
    {
     "data": {
      "text/plain": [
       "<Axes: xlabel='education', ylabel='target'>"
      ]
     },
     "execution_count": 14,
     "metadata": {},
     "output_type": "execute_result"
    },
    {
     "data": {
      "image/png": "[encoded data removed]",
      "text/plain": [
       "<Figure size 640x480 with 1 Axes>"
      ]
     },
     "metadata": {},
     "output_type": "display_data"
    }
   ],
   "source": [
    "from numpy import mean\n",
    "sns.barplot(x='education',y='target',data=train_df,estimator=mean)"
   ]
  },
  {
   "cell_type": "code",
   "execution_count": 15,
   "id": "0f3953d7",
   "metadata": {
    "execution": {
     "iopub.execute_input": "2024-11-22T10:36:49.637368Z",
     "iopub.status.busy": "2024-11-22T10:36:49.636956Z",
     "iopub.status.idle": "2024-11-22T10:36:49.653284Z",
     "shell.execute_reply": "2024-11-22T10:36:49.651850Z"
    },
    "papermill": {
     "duration": 0.035566,
     "end_time": "2024-11-22T10:36:49.655865",
     "exception": false,
     "start_time": "2024-11-22T10:36:49.620299",
     "status": "completed"
    },
    "tags": []
   },
   "outputs": [
    {
     "data": {
      "text/plain": [
       "education\n",
       "primary      0.152788\n",
       "secondary    0.127604\n",
       "tertiary     0.183642\n",
       "Name: target, dtype: float64"
      ]
     },
     "execution_count": 15,
     "metadata": {},
     "output_type": "execute_result"
    }
   ],
   "source": [
    "train_df.groupby('education')['target'].mean()"
   ]
  },
  {
   "cell_type": "code",
   "execution_count": 16,
   "id": "f592880c",
   "metadata": {
    "execution": {
     "iopub.execute_input": "2024-11-22T10:36:49.686111Z",
     "iopub.status.busy": "2024-11-22T10:36:49.685667Z",
     "iopub.status.idle": "2024-11-22T10:36:50.599226Z",
     "shell.execute_reply": "2024-11-22T10:36:50.597777Z"
    },
    "papermill": {
     "duration": 0.932895,
     "end_time": "2024-11-22T10:36:50.602942",
     "exception": false,
     "start_time": "2024-11-22T10:36:49.670047",
     "status": "completed"
    },
    "tags": []
   },
   "outputs": [
    {
     "data": {
      "image/png": "[encoded data removed]",
      "text/plain": [
       "<Figure size 640x480 with 1 Axes>"
      ]
     },
     "metadata": {},
     "output_type": "display_data"
    }
   ],
   "source": [
    "\n",
    "sns.barplot(x='job',y='target',data=train_df,estimator=mean,)\n",
    "plt.xticks(rotation=45, ha=\"right\")\n",
    "plt.tight_layout()\n",
    "plt.show()"
   ]
  },
  {
   "cell_type": "code",
   "execution_count": 17,
   "id": "d46022ce",
   "metadata": {
    "execution": {
     "iopub.execute_input": "2024-11-22T10:36:50.662609Z",
     "iopub.status.busy": "2024-11-22T10:36:50.662201Z",
     "iopub.status.idle": "2024-11-22T10:36:50.677121Z",
     "shell.execute_reply": "2024-11-22T10:36:50.675301Z"
    },
    "papermill": {
     "duration": 0.050674,
     "end_time": "2024-11-22T10:36:50.680825",
     "exception": false,
     "start_time": "2024-11-22T10:36:50.630151",
     "status": "completed"
    },
    "tags": []
   },
   "outputs": [
    {
     "data": {
      "text/plain": [
       "job\n",
       "admin.           0.120019\n",
       "blue-collar      0.069444\n",
       "entrepreneur     0.224931\n",
       "housemaid        0.260266\n",
       "management       0.140713\n",
       "retired          0.228070\n",
       "self-employed    0.249194\n",
       "services         0.090226\n",
       "student          0.379038\n",
       "technician       0.109905\n",
       "unemployed       0.300297\n",
       "Name: target, dtype: float64"
      ]
     },
     "execution_count": 17,
     "metadata": {},
     "output_type": "execute_result"
    }
   ],
   "source": [
    "train_df.groupby('job')['target'].mean()"
   ]
  },
  {
   "cell_type": "code",
   "execution_count": 18,
   "id": "1dfb21d5",
   "metadata": {
    "execution": {
     "iopub.execute_input": "2024-11-22T10:36:50.733869Z",
     "iopub.status.busy": "2024-11-22T10:36:50.733205Z",
     "iopub.status.idle": "2024-11-22T10:36:51.361471Z",
     "shell.execute_reply": "2024-11-22T10:36:51.360246Z"
    },
    "papermill": {
     "duration": 0.656961,
     "end_time": "2024-11-22T10:36:51.364781",
     "exception": false,
     "start_time": "2024-11-22T10:36:50.707820",
     "status": "completed"
    },
    "tags": []
   },
   "outputs": [
    {
     "data": {
      "text/plain": [
       "<Axes: xlabel='marital', ylabel='target'>"
      ]
     },
     "execution_count": 18,
     "metadata": {},
     "output_type": "execute_result"
    },
    {
     "data": {
      "image/png": "[encoded data removed]",
      "text/plain": [
       "<Figure size 640x480 with 1 Axes>"
      ]
     },
     "metadata": {},
     "output_type": "display_data"
    }
   ],
   "source": [
    "\n",
    "sns.barplot(x='marital',y='target',data=train_df,estimator=mean)"
   ]
  },
  {
   "cell_type": "code",
   "execution_count": 19,
   "id": "388cdf0b",
   "metadata": {
    "execution": {
     "iopub.execute_input": "2024-11-22T10:36:51.404683Z",
     "iopub.status.busy": "2024-11-22T10:36:51.403598Z",
     "iopub.status.idle": "2024-11-22T10:36:51.416668Z",
     "shell.execute_reply": "2024-11-22T10:36:51.415486Z"
    },
    "papermill": {
     "duration": 0.032016,
     "end_time": "2024-11-22T10:36:51.419030",
     "exception": false,
     "start_time": "2024-11-22T10:36:51.387014",
     "status": "completed"
    },
    "tags": []
   },
   "outputs": [
    {
     "data": {
      "text/plain": [
       "marital\n",
       "divorced    0.204175\n",
       "married     0.118153\n",
       "single      0.184000\n",
       "Name: target, dtype: float64"
      ]
     },
     "execution_count": 19,
     "metadata": {},
     "output_type": "execute_result"
    }
   ],
   "source": [
    "train_df.groupby('marital')['target'].mean()"
   ]
  },
  {
   "cell_type": "code",
   "execution_count": 20,
   "id": "4912b087",
   "metadata": {
    "execution": {
     "iopub.execute_input": "2024-11-22T10:36:51.453348Z",
     "iopub.status.busy": "2024-11-22T10:36:51.452822Z",
     "iopub.status.idle": "2024-11-22T10:36:52.040312Z",
     "shell.execute_reply": "2024-11-22T10:36:52.039119Z"
    },
    "papermill": {
     "duration": 0.607375,
     "end_time": "2024-11-22T10:36:52.042914",
     "exception": false,
     "start_time": "2024-11-22T10:36:51.435539",
     "status": "completed"
    },
    "tags": []
   },
   "outputs": [
    {
     "data": {
      "text/plain": [
       "<Axes: xlabel='default', ylabel='target'>"
      ]
     },
     "execution_count": 20,
     "metadata": {},
     "output_type": "execute_result"
    },
    {
     "data": {
      "image/png": "[encoded data removed]",
      "text/plain": [
       "<Figure size 640x480 with 1 Axes>"
      ]
     },
     "metadata": {},
     "output_type": "display_data"
    }
   ],
   "source": [
    "sns.barplot(x='default',y='target',data=train_df,estimator=mean)"
   ]
  },
  {
   "cell_type": "code",
   "execution_count": 21,
   "id": "0f236eb2",
   "metadata": {
    "execution": {
     "iopub.execute_input": "2024-11-22T10:36:52.076361Z",
     "iopub.status.busy": "2024-11-22T10:36:52.075962Z",
     "iopub.status.idle": "2024-11-22T10:36:52.087992Z",
     "shell.execute_reply": "2024-11-22T10:36:52.086825Z"
    },
    "papermill": {
     "duration": 0.031724,
     "end_time": "2024-11-22T10:36:52.090280",
     "exception": false,
     "start_time": "2024-11-22T10:36:52.058556",
     "status": "completed"
    },
    "tags": []
   },
   "outputs": [
    {
     "data": {
      "text/plain": [
       "default\n",
       "no     0.134600\n",
       "yes    0.377935\n",
       "Name: target, dtype: float64"
      ]
     },
     "execution_count": 21,
     "metadata": {},
     "output_type": "execute_result"
    }
   ],
   "source": [
    "train_df.groupby('default')['target'].mean()"
   ]
  },
  {
   "cell_type": "code",
   "execution_count": 22,
   "id": "d44192f3",
   "metadata": {
    "execution": {
     "iopub.execute_input": "2024-11-22T10:36:52.125017Z",
     "iopub.status.busy": "2024-11-22T10:36:52.124559Z",
     "iopub.status.idle": "2024-11-22T10:36:52.678675Z",
     "shell.execute_reply": "2024-11-22T10:36:52.677146Z"
    },
    "papermill": {
     "duration": 0.575162,
     "end_time": "2024-11-22T10:36:52.681295",
     "exception": false,
     "start_time": "2024-11-22T10:36:52.106133",
     "status": "completed"
    },
    "tags": []
   },
   "outputs": [
    {
     "data": {
      "text/plain": [
       "<Axes: xlabel='housing', ylabel='target'>"
      ]
     },
     "execution_count": 22,
     "metadata": {},
     "output_type": "execute_result"
    },
    {
     "data": {
      "image/png": "[encoded data removed]",
      "text/plain": [
       "<Figure size 640x480 with 1 Axes>"
      ]
     },
     "metadata": {},
     "output_type": "display_data"
    }
   ],
   "source": [
    "sns.barplot(x='housing',y='target',data=train_df,estimator=mean,)"
   ]
  },
  {
   "cell_type": "code",
   "execution_count": 23,
   "id": "ee8c99ae",
   "metadata": {
    "execution": {
     "iopub.execute_input": "2024-11-22T10:36:52.719928Z",
     "iopub.status.busy": "2024-11-22T10:36:52.719365Z",
     "iopub.status.idle": "2024-11-22T10:36:52.733581Z",
     "shell.execute_reply": "2024-11-22T10:36:52.732196Z"
    },
    "papermill": {
     "duration": 0.037667,
     "end_time": "2024-11-22T10:36:52.736358",
     "exception": false,
     "start_time": "2024-11-22T10:36:52.698691",
     "status": "completed"
    },
    "tags": []
   },
   "outputs": [
    {
     "data": {
      "text/plain": [
       "housing\n",
       "no     0.199670\n",
       "yes    0.107217\n",
       "Name: target, dtype: float64"
      ]
     },
     "execution_count": 23,
     "metadata": {},
     "output_type": "execute_result"
    }
   ],
   "source": [
    "train_df.groupby('housing')['target'].mean()"
   ]
  },
  {
   "cell_type": "code",
   "execution_count": 24,
   "id": "4d56032d",
   "metadata": {
    "execution": {
     "iopub.execute_input": "2024-11-22T10:36:52.771209Z",
     "iopub.status.busy": "2024-11-22T10:36:52.770816Z",
     "iopub.status.idle": "2024-11-22T10:36:53.359517Z",
     "shell.execute_reply": "2024-11-22T10:36:53.358068Z"
    },
    "papermill": {
     "duration": 0.60909,
     "end_time": "2024-11-22T10:36:53.362220",
     "exception": false,
     "start_time": "2024-11-22T10:36:52.753130",
     "status": "completed"
    },
    "tags": []
   },
   "outputs": [
    {
     "data": {
      "text/plain": [
       "<Axes: xlabel='loan', ylabel='target'>"
      ]
     },
     "execution_count": 24,
     "metadata": {},
     "output_type": "execute_result"
    },
    {
     "data": {
      "image/png": "[encoded data removed]",
      "text/plain": [
       "<Figure size 640x480 with 1 Axes>"
      ]
     },
     "metadata": {},
     "output_type": "display_data"
    }
   ],
   "source": [
    "sns.barplot(x='loan',y='target',data=train_df,estimator=mean)"
   ]
  },
  {
   "cell_type": "code",
   "execution_count": 25,
   "id": "3c86eefc",
   "metadata": {
    "execution": {
     "iopub.execute_input": "2024-11-22T10:36:53.399834Z",
     "iopub.status.busy": "2024-11-22T10:36:53.399362Z",
     "iopub.status.idle": "2024-11-22T10:36:53.412861Z",
     "shell.execute_reply": "2024-11-22T10:36:53.410818Z"
    },
    "papermill": {
     "duration": 0.035054,
     "end_time": "2024-11-22T10:36:53.415735",
     "exception": false,
     "start_time": "2024-11-22T10:36:53.380681",
     "status": "completed"
    },
    "tags": []
   },
   "outputs": [
    {
     "data": {
      "text/plain": [
       "loan\n",
       "no     0.144846\n",
       "yes    0.164795\n",
       "Name: target, dtype: float64"
      ]
     },
     "execution_count": 25,
     "metadata": {},
     "output_type": "execute_result"
    }
   ],
   "source": [
    "train_df.groupby('loan')['target'].mean()"
   ]
  },
  {
   "cell_type": "code",
   "execution_count": 26,
   "id": "edf1eb99",
   "metadata": {
    "execution": {
     "iopub.execute_input": "2024-11-22T10:36:53.453500Z",
     "iopub.status.busy": "2024-11-22T10:36:53.453085Z",
     "iopub.status.idle": "2024-11-22T10:36:54.029549Z",
     "shell.execute_reply": "2024-11-22T10:36:54.028173Z"
    },
    "papermill": {
     "duration": 0.598405,
     "end_time": "2024-11-22T10:36:54.032193",
     "exception": false,
     "start_time": "2024-11-22T10:36:53.433788",
     "status": "completed"
    },
    "tags": []
   },
   "outputs": [
    {
     "data": {
      "text/plain": [
       "<Axes: xlabel='contact', ylabel='target'>"
      ]
     },
     "execution_count": 26,
     "metadata": {},
     "output_type": "execute_result"
    },
    {
     "data": {
      "image/png": "[encoded data removed]",
      "text/plain": [
       "<Figure size 640x480 with 1 Axes>"
      ]
     },
     "metadata": {},
     "output_type": "display_data"
    }
   ],
   "source": [
    "sns.barplot(x='contact',y='target',data=train_df,estimator=mean)"
   ]
  },
  {
   "cell_type": "code",
   "execution_count": 27,
   "id": "3588bbc4",
   "metadata": {
    "execution": {
     "iopub.execute_input": "2024-11-22T10:36:54.072929Z",
     "iopub.status.busy": "2024-11-22T10:36:54.072467Z",
     "iopub.status.idle": "2024-11-22T10:36:54.085872Z",
     "shell.execute_reply": "2024-11-22T10:36:54.084476Z"
    },
    "papermill": {
     "duration": 0.037449,
     "end_time": "2024-11-22T10:36:54.088439",
     "exception": false,
     "start_time": "2024-11-22T10:36:54.050990",
     "status": "completed"
    },
    "tags": []
   },
   "outputs": [
    {
     "data": {
      "text/plain": [
       "contact\n",
       "cellular     0.172913\n",
       "telephone    0.281404\n",
       "Name: target, dtype: float64"
      ]
     },
     "execution_count": 27,
     "metadata": {},
     "output_type": "execute_result"
    }
   ],
   "source": [
    "train_df.groupby('contact')['target'].mean()"
   ]
  },
  {
   "cell_type": "code",
   "execution_count": 28,
   "id": "39383cd8",
   "metadata": {
    "execution": {
     "iopub.execute_input": "2024-11-22T10:36:54.125562Z",
     "iopub.status.busy": "2024-11-22T10:36:54.125142Z",
     "iopub.status.idle": "2024-11-22T10:36:54.443523Z",
     "shell.execute_reply": "2024-11-22T10:36:54.441585Z"
    },
    "papermill": {
     "duration": 0.340798,
     "end_time": "2024-11-22T10:36:54.446752",
     "exception": false,
     "start_time": "2024-11-22T10:36:54.105954",
     "status": "completed"
    },
    "tags": []
   },
   "outputs": [
    {
     "data": {
      "text/plain": [
       "<Axes: xlabel='poutcome', ylabel='target'>"
      ]
     },
     "execution_count": 28,
     "metadata": {},
     "output_type": "execute_result"
    },
    {
     "data": {
      "image/png": "[encoded data removed]",
      "text/plain": [
       "<Figure size 640x480 with 1 Axes>"
      ]
     },
     "metadata": {},
     "output_type": "display_data"
    }
   ],
   "source": [
    "sns.barplot(x='poutcome',y='target',data=train_df,estimator=mean)"
   ]
  },
  {
   "cell_type": "code",
   "execution_count": 29,
   "id": "e13a5467",
   "metadata": {
    "execution": {
     "iopub.execute_input": "2024-11-22T10:36:54.486305Z",
     "iopub.status.busy": "2024-11-22T10:36:54.485880Z",
     "iopub.status.idle": "2024-11-22T10:36:54.498048Z",
     "shell.execute_reply": "2024-11-22T10:36:54.496869Z"
    },
    "papermill": {
     "duration": 0.034977,
     "end_time": "2024-11-22T10:36:54.500546",
     "exception": false,
     "start_time": "2024-11-22T10:36:54.465569",
     "status": "completed"
    },
    "tags": []
   },
   "outputs": [
    {
     "data": {
      "text/plain": [
       "poutcome\n",
       "failure    0.198828\n",
       "other      0.310547\n",
       "success    0.586406\n",
       "Name: target, dtype: float64"
      ]
     },
     "execution_count": 29,
     "metadata": {},
     "output_type": "execute_result"
    }
   ],
   "source": [
    "train_df.groupby('poutcome')['target'].mean()"
   ]
  },
  {
   "cell_type": "code",
   "execution_count": 30,
   "id": "342ac5c9",
   "metadata": {
    "execution": {
     "iopub.execute_input": "2024-11-22T10:36:54.540162Z",
     "iopub.status.busy": "2024-11-22T10:36:54.539533Z",
     "iopub.status.idle": "2024-11-22T10:36:55.115044Z",
     "shell.execute_reply": "2024-11-22T10:36:55.113724Z"
    },
    "papermill": {
     "duration": 0.598201,
     "end_time": "2024-11-22T10:36:55.117928",
     "exception": false,
     "start_time": "2024-11-22T10:36:54.519727",
     "status": "completed"
    },
    "tags": []
   },
   "outputs": [
    {
     "data": {
      "image/png": "[encoded data removed]",
      "text/plain": [
       "<Figure size 1500x1000 with 3 Axes>"
      ]
     },
     "metadata": {},
     "output_type": "display_data"
    }
   ],
   "source": [
    "numeric_columns = ['age', 'balance', 'duration']\n",
    "\n",
    "\n",
    "plt.figure(figsize=(15, 10))\n",
    "for i, column in enumerate(numeric_columns, 1):\n",
    "    plt.subplot(2, 3, i) \n",
    "    sns.boxplot(y=train_df[column])\n",
    "    plt.title(f'Box Plot of {column}')\n",
    "plt.tight_layout()\n",
    "plt.show()"
   ]
  },
  {
   "cell_type": "code",
   "execution_count": 31,
   "id": "2437acfc",
   "metadata": {
    "execution": {
     "iopub.execute_input": "2024-11-22T10:36:55.159114Z",
     "iopub.status.busy": "2024-11-22T10:36:55.157951Z",
     "iopub.status.idle": "2024-11-22T10:36:55.168582Z",
     "shell.execute_reply": "2024-11-22T10:36:55.167425Z"
    },
    "papermill": {
     "duration": 0.033169,
     "end_time": "2024-11-22T10:36:55.171073",
     "exception": false,
     "start_time": "2024-11-22T10:36:55.137904",
     "status": "completed"
    },
    "tags": []
   },
   "outputs": [
    {
     "data": {
      "text/plain": [
       "Index(['last contact date', 'job', 'marital', 'education', 'default',\n",
       "       'housing', 'loan', 'contact', 'poutcome'],\n",
       "      dtype='object')"
      ]
     },
     "execution_count": 31,
     "metadata": {},
     "output_type": "execute_result"
    }
   ],
   "source": [
    "cat_cols=train_df.select_dtypes(include='object').columns\n",
    "cat_cols"
   ]
  },
  {
   "cell_type": "code",
   "execution_count": 32,
   "id": "71264bf4",
   "metadata": {
    "execution": {
     "iopub.execute_input": "2024-11-22T10:36:55.211850Z",
     "iopub.status.busy": "2024-11-22T10:36:55.211411Z",
     "iopub.status.idle": "2024-11-22T10:36:55.224411Z",
     "shell.execute_reply": "2024-11-22T10:36:55.222960Z"
    },
    "papermill": {
     "duration": 0.036897,
     "end_time": "2024-11-22T10:36:55.227321",
     "exception": false,
     "start_time": "2024-11-22T10:36:55.190424",
     "status": "completed"
    },
    "tags": []
   },
   "outputs": [
    {
     "data": {
      "text/plain": [
       "Index(['age', 'balance', 'duration', 'campaign', 'pdays', 'previous',\n",
       "       'target'],\n",
       "      dtype='object')"
      ]
     },
     "execution_count": 32,
     "metadata": {},
     "output_type": "execute_result"
    }
   ],
   "source": [
    "num_cols=train_df.select_dtypes(exclude='object').columns\n",
    "num_cols"
   ]
  },
  {
   "cell_type": "code",
   "execution_count": 33,
   "id": "78a1ec0d",
   "metadata": {
    "execution": {
     "iopub.execute_input": "2024-11-22T10:36:55.269583Z",
     "iopub.status.busy": "2024-11-22T10:36:55.269189Z",
     "iopub.status.idle": "2024-11-22T10:36:55.312916Z",
     "shell.execute_reply": "2024-11-22T10:36:55.311483Z"
    },
    "papermill": {
     "duration": 0.069177,
     "end_time": "2024-11-22T10:36:55.315515",
     "exception": false,
     "start_time": "2024-11-22T10:36:55.246338",
     "status": "completed"
    },
    "tags": []
   },
   "outputs": [
    {
     "data": {
      "text/html": [
       "<div>\n",
       "<style scoped>\n",
       "    .dataframe tbody tr th:only-of-type {\n",
       "        vertical-align: middle;\n",
       "    }\n",
       "\n",
       "    .dataframe tbody tr th {\n",
       "        vertical-align: top;\n",
       "    }\n",
       "\n",
       "    .dataframe thead th {\n",
       "        text-align: right;\n",
       "    }\n",
       "</style>\n",
       "<table border=\"1\" class=\"dataframe\">\n",
       "  <thead>\n",
       "    <tr style=\"text-align: right;\">\n",
       "      <th></th>\n",
       "      <th>age</th>\n",
       "      <th>balance</th>\n",
       "      <th>duration</th>\n",
       "      <th>campaign</th>\n",
       "      <th>pdays</th>\n",
       "      <th>previous</th>\n",
       "      <th>target</th>\n",
       "    </tr>\n",
       "  </thead>\n",
       "  <tbody>\n",
       "    <tr>\n",
       "      <th>count</th>\n",
       "      <td>39211.000000</td>\n",
       "      <td>39211.000000</td>\n",
       "      <td>39211.000000</td>\n",
       "      <td>39211.000000</td>\n",
       "      <td>39211.000000</td>\n",
       "      <td>39211.000000</td>\n",
       "      <td>39211.000000</td>\n",
       "    </tr>\n",
       "    <tr>\n",
       "      <th>mean</th>\n",
       "      <td>42.120247</td>\n",
       "      <td>5441.781719</td>\n",
       "      <td>439.062789</td>\n",
       "      <td>5.108770</td>\n",
       "      <td>72.256051</td>\n",
       "      <td>11.826171</td>\n",
       "      <td>0.148606</td>\n",
       "    </tr>\n",
       "    <tr>\n",
       "      <th>std</th>\n",
       "      <td>12.709352</td>\n",
       "      <td>16365.292065</td>\n",
       "      <td>769.096291</td>\n",
       "      <td>9.890153</td>\n",
       "      <td>160.942593</td>\n",
       "      <td>44.140259</td>\n",
       "      <td>0.355704</td>\n",
       "    </tr>\n",
       "    <tr>\n",
       "      <th>min</th>\n",
       "      <td>18.000000</td>\n",
       "      <td>-8019.000000</td>\n",
       "      <td>0.000000</td>\n",
       "      <td>1.000000</td>\n",
       "      <td>-1.000000</td>\n",
       "      <td>0.000000</td>\n",
       "      <td>0.000000</td>\n",
       "    </tr>\n",
       "    <tr>\n",
       "      <th>25%</th>\n",
       "      <td>33.000000</td>\n",
       "      <td>98.000000</td>\n",
       "      <td>109.000000</td>\n",
       "      <td>1.000000</td>\n",
       "      <td>-1.000000</td>\n",
       "      <td>0.000000</td>\n",
       "      <td>0.000000</td>\n",
       "    </tr>\n",
       "    <tr>\n",
       "      <th>50%</th>\n",
       "      <td>40.000000</td>\n",
       "      <td>549.000000</td>\n",
       "      <td>197.000000</td>\n",
       "      <td>2.000000</td>\n",
       "      <td>-1.000000</td>\n",
       "      <td>0.000000</td>\n",
       "      <td>0.000000</td>\n",
       "    </tr>\n",
       "    <tr>\n",
       "      <th>75%</th>\n",
       "      <td>50.000000</td>\n",
       "      <td>2030.000000</td>\n",
       "      <td>380.000000</td>\n",
       "      <td>4.000000</td>\n",
       "      <td>-1.000000</td>\n",
       "      <td>0.000000</td>\n",
       "      <td>0.000000</td>\n",
       "    </tr>\n",
       "    <tr>\n",
       "      <th>max</th>\n",
       "      <td>95.000000</td>\n",
       "      <td>102127.000000</td>\n",
       "      <td>4918.000000</td>\n",
       "      <td>63.000000</td>\n",
       "      <td>871.000000</td>\n",
       "      <td>275.000000</td>\n",
       "      <td>1.000000</td>\n",
       "    </tr>\n",
       "  </tbody>\n",
       "</table>\n",
       "</div>"
      ],
      "text/plain": [
       "                age        balance      duration      campaign         pdays  \\\n",
       "count  39211.000000   39211.000000  39211.000000  39211.000000  39211.000000   \n",
       "mean      42.120247    5441.781719    439.062789      5.108770     72.256051   \n",
       "std       12.709352   16365.292065    769.096291      9.890153    160.942593   \n",
       "min       18.000000   -8019.000000      0.000000      1.000000     -1.000000   \n",
       "25%       33.000000      98.000000    109.000000      1.000000     -1.000000   \n",
       "50%       40.000000     549.000000    197.000000      2.000000     -1.000000   \n",
       "75%       50.000000    2030.000000    380.000000      4.000000     -1.000000   \n",
       "max       95.000000  102127.000000   4918.000000     63.000000    871.000000   \n",
       "\n",
       "           previous        target  \n",
       "count  39211.000000  39211.000000  \n",
       "mean      11.826171      0.148606  \n",
       "std       44.140259      0.355704  \n",
       "min        0.000000      0.000000  \n",
       "25%        0.000000      0.000000  \n",
       "50%        0.000000      0.000000  \n",
       "75%        0.000000      0.000000  \n",
       "max      275.000000      1.000000  "
      ]
     },
     "execution_count": 33,
     "metadata": {},
     "output_type": "execute_result"
    }
   ],
   "source": [
    "train_df[num_cols].describe()"
   ]
  },
  {
   "cell_type": "code",
   "execution_count": 34,
   "id": "d2ec3327",
   "metadata": {
    "execution": {
     "iopub.execute_input": "2024-11-22T10:36:55.357335Z",
     "iopub.status.busy": "2024-11-22T10:36:55.356920Z",
     "iopub.status.idle": "2024-11-22T10:36:55.368091Z",
     "shell.execute_reply": "2024-11-22T10:36:55.366832Z"
    },
    "papermill": {
     "duration": 0.036099,
     "end_time": "2024-11-22T10:36:55.370455",
     "exception": false,
     "start_time": "2024-11-22T10:36:55.334356",
     "status": "completed"
    },
    "tags": []
   },
   "outputs": [],
   "source": [
    "X = train_df.drop(columns=['target'])\n",
    "y = train_df['target']"
   ]
  },
  {
   "cell_type": "code",
   "execution_count": 35,
   "id": "ec2e8609",
   "metadata": {
    "execution": {
     "iopub.execute_input": "2024-11-22T10:36:55.410902Z",
     "iopub.status.busy": "2024-11-22T10:36:55.410473Z",
     "iopub.status.idle": "2024-11-22T10:36:55.419745Z",
     "shell.execute_reply": "2024-11-22T10:36:55.418414Z"
    },
    "papermill": {
     "duration": 0.0318,
     "end_time": "2024-11-22T10:36:55.422135",
     "exception": false,
     "start_time": "2024-11-22T10:36:55.390335",
     "status": "completed"
    },
    "tags": []
   },
   "outputs": [],
   "source": [
    "def feature_engineering(X):\n",
    "    X = X.copy()\n",
    "    if 'last contact date' in X.columns:\n",
    "        X['last contact date'] = pd.to_datetime(X['last contact date'], errors='coerce')\n",
    "        \n",
    "        # Extract month names and day of the week\n",
    "        X['contact_month'] = X['last contact date'].dt.month_name().fillna('Unknown')\n",
    "        X['contact_dayofweek'] = X['last contact date'].dt.dayofweek.fillna(-1).astype(int)\n",
    "        X.drop(columns=['last contact date'], inplace=True)\n",
    "\n",
    "        \n",
    "        \n",
    "        if 'balance' in X.columns:\n",
    "            X['balance'] = X['balance'].replace([np.inf, -np.inf], np.nan).fillna(0)\n",
    "            X['balance'] = X['balance'].clip(lower=0)\n",
    "        if 'duration' in X.columns:\n",
    "            X['duration'] = X['duration'].replace([np.inf, -np.inf], np.nan).fillna(0)\n",
    "            X['duration'] = X['duration'].clip(lower=0)  \n",
    "        if 'balance' in X.columns and 'duration' in X.columns:\n",
    "            X['balance_duration_ratio'] = X['balance'] / (X['duration'] + 1)\n",
    "        \n",
    "    return X\n"
   ]
  },
  {
   "cell_type": "code",
   "execution_count": 36,
   "id": "07562eac",
   "metadata": {
    "execution": {
     "iopub.execute_input": "2024-11-22T10:36:55.463987Z",
     "iopub.status.busy": "2024-11-22T10:36:55.463555Z",
     "iopub.status.idle": "2024-11-22T10:36:55.531958Z",
     "shell.execute_reply": "2024-11-22T10:36:55.530725Z"
    },
    "papermill": {
     "duration": 0.092145,
     "end_time": "2024-11-22T10:36:55.534590",
     "exception": false,
     "start_time": "2024-11-22T10:36:55.442445",
     "status": "completed"
    },
    "tags": []
   },
   "outputs": [],
   "source": [
    "feature_engineer = FunctionTransformer(feature_engineering)\n",
    "X = feature_engineer.transform(X)\n",
    "test_df = feature_engineer.transform(test_df)"
   ]
  },
  {
   "cell_type": "code",
   "execution_count": 37,
   "id": "fb3c5124",
   "metadata": {
    "execution": {
     "iopub.execute_input": "2024-11-22T10:36:55.575782Z",
     "iopub.status.busy": "2024-11-22T10:36:55.575330Z",
     "iopub.status.idle": "2024-11-22T10:36:56.073508Z",
     "shell.execute_reply": "2024-11-22T10:36:56.072326Z"
    },
    "papermill": {
     "duration": 0.522095,
     "end_time": "2024-11-22T10:36:56.076351",
     "exception": false,
     "start_time": "2024-11-22T10:36:55.554256",
     "status": "completed"
    },
    "tags": []
   },
   "outputs": [
    {
     "data": {
      "text/plain": [
       "<Axes: >"
      ]
     },
     "execution_count": 37,
     "metadata": {},
     "output_type": "execute_result"
    },
    {
     "data": {
      "image/png": "[encoded data removed]",
      "text/plain": [
       "<Figure size 640x480 with 2 Axes>"
      ]
     },
     "metadata": {},
     "output_type": "display_data"
    }
   ],
   "source": [
    "cor=train_df[num_cols].corr()\n",
    "sns.heatmap(cor,annot=True)"
   ]
  },
  {
   "cell_type": "code",
   "execution_count": 38,
   "id": "85e13731",
   "metadata": {
    "execution": {
     "iopub.execute_input": "2024-11-22T10:36:56.119571Z",
     "iopub.status.busy": "2024-11-22T10:36:56.119194Z",
     "iopub.status.idle": "2024-11-22T10:36:56.145392Z",
     "shell.execute_reply": "2024-11-22T10:36:56.144303Z"
    },
    "papermill": {
     "duration": 0.051157,
     "end_time": "2024-11-22T10:36:56.148019",
     "exception": false,
     "start_time": "2024-11-22T10:36:56.096862",
     "status": "completed"
    },
    "tags": []
   },
   "outputs": [],
   "source": [
    "cat_cols = X.select_dtypes(include=['object']).columns.tolist()\n",
    "num_cols = X.select_dtypes(include=['int64', 'float64']).columns.tolist()"
   ]
  },
  {
   "cell_type": "code",
   "execution_count": 39,
   "id": "d02cb254",
   "metadata": {
    "execution": {
     "iopub.execute_input": "2024-11-22T10:36:56.191054Z",
     "iopub.status.busy": "2024-11-22T10:36:56.190530Z",
     "iopub.status.idle": "2024-11-22T10:36:56.212140Z",
     "shell.execute_reply": "2024-11-22T10:36:56.210955Z"
    },
    "papermill": {
     "duration": 0.046466,
     "end_time": "2024-11-22T10:36:56.214774",
     "exception": false,
     "start_time": "2024-11-22T10:36:56.168308",
     "status": "completed"
    },
    "tags": []
   },
   "outputs": [],
   "source": [
    "label_encoder_cols = [col for col in cat_cols if X[col].nunique() <= 5]  # Label Encode small cardinality\n",
    "one_hot_encoder_cols = [col for col in cat_cols if col not in label_encoder_cols]  # One-Hot Encode others\n"
   ]
  },
  {
   "cell_type": "code",
   "execution_count": 40,
   "id": "b96b524b",
   "metadata": {
    "execution": {
     "iopub.execute_input": "2024-11-22T10:36:56.256496Z",
     "iopub.status.busy": "2024-11-22T10:36:56.256085Z",
     "iopub.status.idle": "2024-11-22T10:36:56.351730Z",
     "shell.execute_reply": "2024-11-22T10:36:56.350142Z"
    },
    "papermill": {
     "duration": 0.120078,
     "end_time": "2024-11-22T10:36:56.354655",
     "exception": false,
     "start_time": "2024-11-22T10:36:56.234577",
     "status": "completed"
    },
    "tags": []
   },
   "outputs": [],
   "source": [
    "label_encoders = {}\n",
    "for col in label_encoder_cols:\n",
    "    le = LabelEncoder()\n",
    "    X[col] = le.fit_transform(X[col].astype(str))\n",
    "    test_df[col] = le.transform(test_df[col].astype(str))\n",
    "    label_encoders[col] = le"
   ]
  },
  {
   "cell_type": "code",
   "execution_count": 41,
   "id": "e8111ef9",
   "metadata": {
    "execution": {
     "iopub.execute_input": "2024-11-22T10:36:56.396883Z",
     "iopub.status.busy": "2024-11-22T10:36:56.396445Z",
     "iopub.status.idle": "2024-11-22T10:36:56.413426Z",
     "shell.execute_reply": "2024-11-22T10:36:56.412177Z"
    },
    "papermill": {
     "duration": 0.041531,
     "end_time": "2024-11-22T10:36:56.416120",
     "exception": false,
     "start_time": "2024-11-22T10:36:56.374589",
     "status": "completed"
    },
    "tags": []
   },
   "outputs": [
    {
     "data": {
      "text/plain": [
       "['age',\n",
       " 'marital',\n",
       " 'education',\n",
       " 'default',\n",
       " 'balance',\n",
       " 'housing',\n",
       " 'loan',\n",
       " 'contact',\n",
       " 'duration',\n",
       " 'campaign',\n",
       " 'pdays',\n",
       " 'previous',\n",
       " 'poutcome',\n",
       " 'contact_dayofweek',\n",
       " 'balance_duration_ratio']"
      ]
     },
     "execution_count": 41,
     "metadata": {},
     "output_type": "execute_result"
    }
   ],
   "source": [
    "num_cols=X.select_dtypes(include=['int64','float64']).columns.to_list()\n",
    "num_cols"
   ]
  },
  {
   "cell_type": "code",
   "execution_count": 42,
   "id": "3af555b7",
   "metadata": {
    "execution": {
     "iopub.execute_input": "2024-11-22T10:36:56.460240Z",
     "iopub.status.busy": "2024-11-22T10:36:56.459787Z",
     "iopub.status.idle": "2024-11-22T10:36:56.477284Z",
     "shell.execute_reply": "2024-11-22T10:36:56.476118Z"
    },
    "papermill": {
     "duration": 0.043007,
     "end_time": "2024-11-22T10:36:56.479875",
     "exception": false,
     "start_time": "2024-11-22T10:36:56.436868",
     "status": "completed"
    },
    "tags": []
   },
   "outputs": [
    {
     "name": "stderr",
     "output_type": "stream",
     "text": [
      "/tmp/ipykernel_17/3724211843.py:3: FutureWarning: A value is trying to be set on a copy of a DataFrame or Series through chained assignment using an inplace method.\n",
      "The behavior will change in pandas 3.0. This inplace method will never work because the intermediate object on which we are setting values always behaves as a copy.\n",
      "\n",
      "For example, when doing 'df[col].method(value, inplace=True)', try using 'df.method({col: value}, inplace=True)' or df[col] = df[col].method(value) instead, to perform the operation inplace on the original object.\n",
      "\n",
      "\n",
      "  X[col].fillna('Unknown', inplace=True)\n",
      "/tmp/ipykernel_17/3724211843.py:7: FutureWarning: A value is trying to be set on a copy of a DataFrame or Series through chained assignment using an inplace method.\n",
      "The behavior will change in pandas 3.0. This inplace method will never work because the intermediate object on which we are setting values always behaves as a copy.\n",
      "\n",
      "For example, when doing 'df[col].method(value, inplace=True)', try using 'df.method({col: value}, inplace=True)' or df[col] = df[col].method(value) instead, to perform the operation inplace on the original object.\n",
      "\n",
      "\n",
      "  test_df[col].fillna('Unknown', inplace=True)\n"
     ]
    }
   ],
   "source": [
    "cat_cols_with_na = [col for col in cat_cols if X[col].isnull().any()]\n",
    "for col in cat_cols_with_na:\n",
    "     X[col].fillna('Unknown', inplace=True)\n",
    "\n",
    "# # Same for test_data to ensure consistency\n",
    "for col in cat_cols_with_na:\n",
    "    test_df[col].fillna('Unknown', inplace=True)"
   ]
  },
  {
   "cell_type": "code",
   "execution_count": 43,
   "id": "48fd88a2",
   "metadata": {
    "execution": {
     "iopub.execute_input": "2024-11-22T10:36:56.524624Z",
     "iopub.status.busy": "2024-11-22T10:36:56.524254Z",
     "iopub.status.idle": "2024-11-22T10:36:56.529920Z",
     "shell.execute_reply": "2024-11-22T10:36:56.528657Z"
    },
    "papermill": {
     "duration": 0.032063,
     "end_time": "2024-11-22T10:36:56.532426",
     "exception": false,
     "start_time": "2024-11-22T10:36:56.500363",
     "status": "completed"
    },
    "tags": []
   },
   "outputs": [],
   "source": [
    "num_transformer = Pipeline(steps=[\n",
    "    ('imputer', SimpleImputer(strategy='mean')),  # Impute missing values\n",
    "    ('scaler', StandardScaler())  # Apply MinMaxScaler for normalization\n",
    "])\n"
   ]
  },
  {
   "cell_type": "code",
   "execution_count": 44,
   "id": "4df12ceb",
   "metadata": {
    "execution": {
     "iopub.execute_input": "2024-11-22T10:36:56.633738Z",
     "iopub.status.busy": "2024-11-22T10:36:56.633314Z",
     "iopub.status.idle": "2024-11-22T10:36:56.638755Z",
     "shell.execute_reply": "2024-11-22T10:36:56.637585Z"
    },
    "papermill": {
     "duration": 0.029497,
     "end_time": "2024-11-22T10:36:56.641223",
     "exception": false,
     "start_time": "2024-11-22T10:36:56.611726",
     "status": "completed"
    },
    "tags": []
   },
   "outputs": [],
   "source": [
    "one_hot_transformer = OneHotEncoder(handle_unknown='ignore')\n"
   ]
  },
  {
   "cell_type": "code",
   "execution_count": 45,
   "id": "e45cd798",
   "metadata": {
    "execution": {
     "iopub.execute_input": "2024-11-22T10:36:56.683546Z",
     "iopub.status.busy": "2024-11-22T10:36:56.683149Z",
     "iopub.status.idle": "2024-11-22T10:36:56.688829Z",
     "shell.execute_reply": "2024-11-22T10:36:56.687411Z"
    },
    "papermill": {
     "duration": 0.03042,
     "end_time": "2024-11-22T10:36:56.691516",
     "exception": false,
     "start_time": "2024-11-22T10:36:56.661096",
     "status": "completed"
    },
    "tags": []
   },
   "outputs": [],
   "source": [
    "\n",
    "preprocessor = ColumnTransformer(\n",
    "    transformers=[\n",
    "        ('num', num_transformer, num_cols),\n",
    "        ('onehot', one_hot_transformer, one_hot_encoder_cols)\n",
    "    ],\n",
    "    remainder='passthrough'  # Keep label-encoded columns\n",
    ")"
   ]
  },
  {
   "cell_type": "code",
   "execution_count": 46,
   "id": "8ba7ca1b",
   "metadata": {
    "execution": {
     "iopub.execute_input": "2024-11-22T10:36:56.734650Z",
     "iopub.status.busy": "2024-11-22T10:36:56.734260Z",
     "iopub.status.idle": "2024-11-22T10:36:56.835246Z",
     "shell.execute_reply": "2024-11-22T10:36:56.834049Z"
    },
    "papermill": {
     "duration": 0.125946,
     "end_time": "2024-11-22T10:36:56.838226",
     "exception": false,
     "start_time": "2024-11-22T10:36:56.712280",
     "status": "completed"
    },
    "tags": []
   },
   "outputs": [],
   "source": [
    "\n",
    "x_processed = preprocessor.fit_transform(X)\n",
    "\n",
    "x_test_processed = preprocessor.transform(test_df)\n"
   ]
  },
  {
   "cell_type": "code",
   "execution_count": 47,
   "id": "a9c7f138",
   "metadata": {
    "execution": {
     "iopub.execute_input": "2024-11-22T10:36:56.882512Z",
     "iopub.status.busy": "2024-11-22T10:36:56.882053Z",
     "iopub.status.idle": "2024-11-22T10:36:56.898043Z",
     "shell.execute_reply": "2024-11-22T10:36:56.896583Z"
    },
    "papermill": {
     "duration": 0.041743,
     "end_time": "2024-11-22T10:36:56.900774",
     "exception": false,
     "start_time": "2024-11-22T10:36:56.859031",
     "status": "completed"
    },
    "tags": []
   },
   "outputs": [
    {
     "data": {
      "text/plain": [
       "age                       0\n",
       "job                       0\n",
       "marital                   0\n",
       "education                 0\n",
       "default                   0\n",
       "balance                   0\n",
       "housing                   0\n",
       "loan                      0\n",
       "contact                   0\n",
       "duration                  0\n",
       "campaign                  0\n",
       "pdays                     0\n",
       "previous                  0\n",
       "poutcome                  0\n",
       "contact_month             0\n",
       "contact_dayofweek         0\n",
       "balance_duration_ratio    0\n",
       "dtype: int64"
      ]
     },
     "execution_count": 47,
     "metadata": {},
     "output_type": "execute_result"
    }
   ],
   "source": [
    "X.isna().sum()"
   ]
  },
  {
   "cell_type": "code",
   "execution_count": 48,
   "id": "60de3266",
   "metadata": {
    "execution": {
     "iopub.execute_input": "2024-11-22T10:36:56.945635Z",
     "iopub.status.busy": "2024-11-22T10:36:56.945218Z",
     "iopub.status.idle": "2024-11-22T10:36:56.964490Z",
     "shell.execute_reply": "2024-11-22T10:36:56.962967Z"
    },
    "papermill": {
     "duration": 0.044791,
     "end_time": "2024-11-22T10:36:56.967130",
     "exception": false,
     "start_time": "2024-11-22T10:36:56.922339",
     "status": "completed"
    },
    "tags": []
   },
   "outputs": [],
   "source": [
    "x_train, x_val, y_train, y_val = train_test_split(x_processed, y, test_size=0.2, random_state=42)"
   ]
  },
  {
   "cell_type": "code",
   "execution_count": 49,
   "id": "aade812d",
   "metadata": {
    "execution": {
     "iopub.execute_input": "2024-11-22T10:36:57.010556Z",
     "iopub.status.busy": "2024-11-22T10:36:57.010152Z",
     "iopub.status.idle": "2024-11-22T10:36:57.024918Z",
     "shell.execute_reply": "2024-11-22T10:36:57.023393Z"
    },
    "papermill": {
     "duration": 0.040065,
     "end_time": "2024-11-22T10:36:57.027514",
     "exception": false,
     "start_time": "2024-11-22T10:36:56.987449",
     "status": "completed"
    },
    "tags": []
   },
   "outputs": [
    {
     "name": "stdout",
     "output_type": "stream",
     "text": [
      "Dummy Classifier Validation F1 Score (Macro): 0.45865543898398675\n"
     ]
    }
   ],
   "source": [
    "dummy_clf = DummyClassifier(strategy=\"most_frequent\")\n",
    "dummy_clf.fit(x_train, y_train)\n",
    "y_val_pred_dummy = dummy_clf.predict(x_val)\n",
    "dummy_f1 = f1_score(y_val, y_val_pred_dummy, average='macro')\n",
    "print(f\"Dummy Classifier Validation F1 Score (Macro): {dummy_f1}\")\n"
   ]
  },
  {
   "cell_type": "code",
   "execution_count": 50,
   "id": "b87024e6",
   "metadata": {
    "execution": {
     "iopub.execute_input": "2024-11-22T10:36:57.075651Z",
     "iopub.status.busy": "2024-11-22T10:36:57.075242Z",
     "iopub.status.idle": "2024-11-22T10:36:57.081811Z",
     "shell.execute_reply": "2024-11-22T10:36:57.080640Z"
    },
    "papermill": {
     "duration": 0.033606,
     "end_time": "2024-11-22T10:36:57.084231",
     "exception": false,
     "start_time": "2024-11-22T10:36:57.050625",
     "status": "completed"
    },
    "tags": []
   },
   "outputs": [],
   "source": [
    "models = {\n",
    "    \"RandomForest\": RandomForestClassifier(random_state=42),\n",
    "    \"XGBoost\": XGBClassifier(use_label_encoder=False, eval_metric='logloss', random_state=42),\n",
    "    \"KNN\": KNeighborsClassifier(),\n",
    "    \"SVM\": SVC(probability=True, random_state=42),\n",
    "    \"NaiveBayes\": GaussianNB(),\n",
    "    'Logistic'  : LogisticRegression()\n",
    "}"
   ]
  },
  {
   "cell_type": "code",
   "execution_count": 51,
   "id": "08fda4b5",
   "metadata": {
    "execution": {
     "iopub.execute_input": "2024-11-22T10:36:57.127915Z",
     "iopub.status.busy": "2024-11-22T10:36:57.127497Z",
     "iopub.status.idle": "2024-11-22T10:41:19.939690Z",
     "shell.execute_reply": "2024-11-22T10:41:19.935502Z"
    },
    "papermill": {
     "duration": 262.83893,
     "end_time": "2024-11-22T10:41:19.944738",
     "exception": false,
     "start_time": "2024-11-22T10:36:57.105808",
     "status": "completed"
    },
    "tags": []
   },
   "outputs": [
    {
     "name": "stdout",
     "output_type": "stream",
     "text": [
      "RandomForest F1 Score: 0.7160053148129398\n",
      "XGBoost F1 Score: 0.7240877977747655\n",
      "KNN F1 Score: 0.6638851310241602\n",
      "SVM F1 Score: 0.675027202440124\n",
      "NaiveBayes F1 Score: 0.6809527265871235\n",
      "Logistic F1 Score: 0.6105231119719086\n"
     ]
    }
   ],
   "source": [
    "model_f1_scores = {}\n",
    "for model_name, model in models.items():\n",
    "    model.fit(x_train, y_train)\n",
    "    val_preds = model.predict(x_val)\n",
    "    f1 = f1_score(y_val, val_preds, average='macro')\n",
    "    model_f1_scores[model_name] = f1\n",
    "    print(f'{model_name} F1 Score: {f1}')"
   ]
  },
  {
   "cell_type": "code",
   "execution_count": 52,
   "id": "ea918efe",
   "metadata": {
    "execution": {
     "iopub.execute_input": "2024-11-22T10:41:20.058077Z",
     "iopub.status.busy": "2024-11-22T10:41:20.057601Z",
     "iopub.status.idle": "2024-11-22T10:42:11.459498Z",
     "shell.execute_reply": "2024-11-22T10:42:11.458145Z"
    },
    "papermill": {
     "duration": 51.454739,
     "end_time": "2024-11-22T10:42:11.462319",
     "exception": false,
     "start_time": "2024-11-22T10:41:20.007580",
     "status": "completed"
    },
    "tags": []
   },
   "outputs": [],
   "source": [
    "rfe_selector = RFE(estimator=RandomForestClassifier(random_state=42), n_features_to_select=30, step=1)\n",
    "X_train_selected = rfe_selector.fit_transform(x_train, y_train)\n",
    "X_val_selected = rfe_selector.transform(x_val)\n",
    "test_selected = rfe_selector.transform(x_test_processed)"
   ]
  },
  {
   "cell_type": "code",
   "execution_count": 53,
   "id": "9afc0d5f",
   "metadata": {
    "execution": {
     "iopub.execute_input": "2024-11-22T10:42:11.506121Z",
     "iopub.status.busy": "2024-11-22T10:42:11.505673Z",
     "iopub.status.idle": "2024-11-22T10:48:37.458287Z",
     "shell.execute_reply": "2024-11-22T10:48:37.456847Z"
    },
    "papermill": {
     "duration": 385.978052,
     "end_time": "2024-11-22T10:48:37.460989",
     "exception": false,
     "start_time": "2024-11-22T10:42:11.482937",
     "status": "completed"
    },
    "tags": []
   },
   "outputs": [],
   "source": [
    "rf_param_dist = {\n",
    "    'n_estimators': [100, 300, 500],\n",
    "    'max_depth': [10, 20, 30, None],\n",
    "    'min_samples_split': [2, 5, 10],\n",
    "    'min_samples_leaf': [1, 2, 4],\n",
    "    'class_weight': ['balanced', None],\n",
    "    'max_features': ['sqrt', 'log2', None]\n",
    "}\n",
    "\n",
    "rf_model = RandomForestClassifier(random_state=42)\n",
    "rf_search = RandomizedSearchCV(rf_model, rf_param_dist, n_iter=20, cv=3, scoring='f1_macro', random_state=42, n_jobs=-1)\n",
    "rf_search.fit(X_train_selected, y_train)\n",
    "best_rf = rf_search.best_estimator_"
   ]
  },
  {
   "cell_type": "code",
   "execution_count": 54,
   "id": "d4dbe4f2",
   "metadata": {
    "execution": {
     "iopub.execute_input": "2024-11-22T10:48:37.504529Z",
     "iopub.status.busy": "2024-11-22T10:48:37.504104Z",
     "iopub.status.idle": "2024-11-22T10:48:57.559912Z",
     "shell.execute_reply": "2024-11-22T10:48:57.558939Z"
    },
    "papermill": {
     "duration": 20.081006,
     "end_time": "2024-11-22T10:48:57.562827",
     "exception": false,
     "start_time": "2024-11-22T10:48:37.481821",
     "status": "completed"
    },
    "tags": []
   },
   "outputs": [],
   "source": [
    "xgb_param_dist = {\n",
    "    'n_estimators': [100, 200, 300],\n",
    "    'max_depth': [3, 5, 7],\n",
    "    'learning_rate': [0.01, 0.05, 0.1],\n",
    "    'subsample': [0.6, 0.8, 1.0],\n",
    "    'colsample_bytree': [0.6, 0.8, 1.0],\n",
    "    'gamma': [0, 0.1, 0.2],\n",
    "    'min_child_weight': [1, 3, 5]\n",
    "}\n",
    "xgb_model = XGBClassifier(use_label_encoder=False, eval_metric='logloss', random_state=42)\n",
    "xgb_search = RandomizedSearchCV(xgb_model, xgb_param_dist, n_iter=20, cv=3, scoring='f1_macro', random_state=42, n_jobs=-1)\n",
    "xgb_search.fit(X_train_selected, y_train)\n",
    "best_xgb = xgb_search.best_estimator_"
   ]
  },
  {
   "cell_type": "code",
   "execution_count": 55,
   "id": "2ef3a215",
   "metadata": {
    "execution": {
     "iopub.execute_input": "2024-11-22T10:48:57.610155Z",
     "iopub.status.busy": "2024-11-22T10:48:57.609682Z",
     "iopub.status.idle": "2024-11-22T10:54:47.184414Z",
     "shell.execute_reply": "2024-11-22T10:54:47.183098Z"
    },
    "papermill": {
     "duration": 349.600167,
     "end_time": "2024-11-22T10:54:47.187277",
     "exception": false,
     "start_time": "2024-11-22T10:48:57.587110",
     "status": "completed"
    },
    "tags": []
   },
   "outputs": [],
   "source": [
    "gb_param_dist = {\n",
    "    'n_estimators': [100, 200, 300],\n",
    "    'max_depth': [3, 5, 7],\n",
    "    'learning_rate': [0.01, 0.1, 0.2],\n",
    "    'subsample': [0.6, 0.8, 1.0]\n",
    "}\n",
    "gb_search = RandomizedSearchCV(GradientBoostingClassifier(random_state=42), gb_param_dist, n_iter=20, cv=3, scoring='f1_macro', n_jobs=-1)\n",
    "gb_search.fit(X_train_selected, y_train)\n",
    "best_gb = gb_search.best_estimator_\n"
   ]
  },
  {
   "cell_type": "code",
   "execution_count": 56,
   "id": "258ec4c8",
   "metadata": {
    "execution": {
     "iopub.execute_input": "2024-11-22T10:54:47.233417Z",
     "iopub.status.busy": "2024-11-22T10:54:47.232996Z",
     "iopub.status.idle": "2024-11-22T10:55:07.069745Z",
     "shell.execute_reply": "2024-11-22T10:55:07.066660Z"
    },
    "papermill": {
     "duration": 19.862518,
     "end_time": "2024-11-22T10:55:07.072465",
     "exception": false,
     "start_time": "2024-11-22T10:54:47.209947",
     "status": "completed"
    },
    "tags": []
   },
   "outputs": [
    {
     "name": "stdout",
     "output_type": "stream",
     "text": [
      "Voting Classifier Validation F1 Macro Score: 0.769566291263585\n"
     ]
    }
   ],
   "source": [
    "voting_clf = VotingClassifier(\n",
    "    estimators=[('rf', best_rf), ('xgb', best_xgb)],\n",
    "    voting='soft'\n",
    ")\n",
    "voting_clf.fit(x_train, y_train)\n",
    "\n",
    "# Evaluate the ensemble model\n",
    "y_val_preds = voting_clf.predict(x_val)\n",
    "val_f1 = f1_score(y_val, y_val_preds, average='macro')\n",
    "print(f\"Voting Classifier Validation F1 Macro Score: {val_f1}\")"
   ]
  },
  {
   "cell_type": "code",
   "execution_count": 57,
   "id": "a0d8969f",
   "metadata": {
    "execution": {
     "iopub.execute_input": "2024-11-22T10:55:07.117432Z",
     "iopub.status.busy": "2024-11-22T10:55:07.117034Z",
     "iopub.status.idle": "2024-11-22T10:55:07.998990Z",
     "shell.execute_reply": "2024-11-22T10:55:07.997761Z"
    },
    "papermill": {
     "duration": 0.907463,
     "end_time": "2024-11-22T10:55:08.001498",
     "exception": false,
     "start_time": "2024-11-22T10:55:07.094035",
     "status": "completed"
    },
    "tags": []
   },
   "outputs": [],
   "source": [
    "y_val_rf = best_rf.predict(X_val_selected)\n",
    "rf_f1 = f1_score(y_val, y_val_rf, average='macro')\n",
    "\n",
    "y_val_xgb = best_xgb.predict(X_val_selected)\n",
    "xgb_f1 = f1_score(y_val, y_val_xgb, average='macro')\n",
    "y_val_gb = best_gb.predict(X_val_selected)\n",
    "gb_f1 = f1_score(y_val, y_val_gb, average='macro')\n"
   ]
  },
  {
   "cell_type": "code",
   "execution_count": 58,
   "id": "6cb78993",
   "metadata": {
    "execution": {
     "iopub.execute_input": "2024-11-22T10:55:08.048873Z",
     "iopub.status.busy": "2024-11-22T10:55:08.048389Z",
     "iopub.status.idle": "2024-11-22T10:55:09.060179Z",
     "shell.execute_reply": "2024-11-22T10:55:09.059224Z"
    },
    "papermill": {
     "duration": 1.039659,
     "end_time": "2024-11-22T10:55:09.063289",
     "exception": false,
     "start_time": "2024-11-22T10:55:08.023630",
     "status": "completed"
    },
    "tags": []
   },
   "outputs": [
    {
     "name": "stdout",
     "output_type": "stream",
     "text": [
      "Random Forest F1 Macro Score: 0.7710636364556913\n",
      "XGBoost F1 Macro Score: 0.7299638748444554\n",
      "Gradientboost F1 Macro Score: 0.7243979167022491\n",
      "Best Model: Random Forest\n",
      "Submission file created.\n"
     ]
    }
   ],
   "source": [
    "f1_scores = {'Random Forest': rf_f1, 'XGBoost': xgb_f1,'Gradientboost':gb_f1}\n",
    "best_model_name = max(f1_scores, key=f1_scores.get)\n",
    "best_model = {'Random Forest': best_rf, 'XGBoost': best_xgb,'Gradientboost':best_gb}[best_model_name]\n",
    "\n",
    "print(f\"Random Forest F1 Macro Score: {rf_f1}\")\n",
    "print(f\"XGBoost F1 Macro Score: {xgb_f1}\")\n",
    "print(f\"Gradientboost F1 Macro Score: {gb_f1}\")\n",
    "\n",
    "\n",
    "print(f\"Best Model: {best_model_name}\")\n",
    "\n",
    "# Predict on the test set\n",
    "test_preds = voting_clf.predict(x_test_processed)\n",
    "submission = pd.DataFrame({'id': range(len(test_df)), 'target': test_preds})\n",
    "submission['target'] = submission['target'].map({1: 'yes', 0: 'no'})\n",
    "submission.to_csv('submission.csv', index=False)\n",
    "print(\"Submission file created.\")"
   ]
  },
  {
   "cell_type": "code",
   "execution_count": null,
   "id": "292202cf",
   "metadata": {
    "papermill": {
     "duration": 0.036663,
     "end_time": "2024-11-22T10:55:09.140852",
     "exception": false,
     "start_time": "2024-11-22T10:55:09.104189",
     "status": "completed"
    },
    "tags": []
   },
   "outputs": [],
   "source": []
  },
  {
   "cell_type": "code",
   "execution_count": null,
   "id": "f8ab96bb",
   "metadata": {
    "papermill": {
     "duration": 0.021432,
     "end_time": "2024-11-22T10:55:09.184102",
     "exception": false,
     "start_time": "2024-11-22T10:55:09.162670",
     "status": "completed"
    },
    "tags": []
   },
   "outputs": [],
   "source": []
  },
  {
   "cell_type": "code",
   "execution_count": null,
   "id": "4009d4a6",
   "metadata": {
    "papermill": {
     "duration": 0.022583,
     "end_time": "2024-11-22T10:55:09.229237",
     "exception": false,
     "start_time": "2024-11-22T10:55:09.206654",
     "status": "completed"
    },
    "tags": []
   },
   "outputs": [],
   "source": []
  },
  {
   "cell_type": "code",
   "execution_count": null,
   "id": "a9dea47b",
   "metadata": {
    "papermill": {
     "duration": 0.022823,
     "end_time": "2024-11-22T10:55:09.273104",
     "exception": false,
     "start_time": "2024-11-22T10:55:09.250281",
     "status": "completed"
    },
    "tags": []
   },
   "outputs": [],
   "source": []
  },
  {
   "cell_type": "code",
   "execution_count": null,
   "id": "d922245d",
   "metadata": {
    "papermill": {
     "duration": 0.021672,
     "end_time": "2024-11-22T10:55:09.317342",
     "exception": false,
     "start_time": "2024-11-22T10:55:09.295670",
     "status": "completed"
    },
    "tags": []
   },
   "outputs": [],
   "source": []
  },
  {
   "cell_type": "markdown",
   "id": "e630e6f4",
   "metadata": {
    "papermill": {
     "duration": 0.022402,
     "end_time": "2024-11-22T10:55:09.362637",
     "exception": false,
     "start_time": "2024-11-22T10:55:09.340235",
     "status": "completed"
    },
    "tags": []
   },
   "source": []
  },
  {
   "cell_type": "code",
   "execution_count": null,
   "id": "d530b385",
   "metadata": {
    "papermill": {
     "duration": 0.023361,
     "end_time": "2024-11-22T10:55:09.408973",
     "exception": false,
     "start_time": "2024-11-22T10:55:09.385612",
     "status": "completed"
    },
    "tags": []
   },
   "outputs": [],
   "source": []
  },
  {
   "cell_type": "code",
   "execution_count": null,
   "id": "22af391e",
   "metadata": {
    "papermill": {
     "duration": 0.02101,
     "end_time": "2024-11-22T10:55:09.452228",
     "exception": false,
     "start_time": "2024-11-22T10:55:09.431218",
     "status": "completed"
    },
    "tags": []
   },
   "outputs": [],
   "source": []
  },
  {
   "cell_type": "code",
   "execution_count": null,
   "id": "627fb5b6",
   "metadata": {
    "papermill": {
     "duration": 0.020513,
     "end_time": "2024-11-22T10:55:09.495597",
     "exception": false,
     "start_time": "2024-11-22T10:55:09.475084",
     "status": "completed"
    },
    "tags": []
   },
   "outputs": [],
   "source": []
  },
  {
   "cell_type": "code",
   "execution_count": null,
   "id": "86dfd86b",
   "metadata": {
    "papermill": {
     "duration": 0.021423,
     "end_time": "2024-11-22T10:55:09.539721",
     "exception": false,
     "start_time": "2024-11-22T10:55:09.518298",
     "status": "completed"
    },
    "tags": []
   },
   "outputs": [],
   "source": []
  },
  {
   "cell_type": "code",
   "execution_count": null,
   "id": "788dafd7",
   "metadata": {
    "papermill": {
     "duration": 0.022312,
     "end_time": "2024-11-22T10:55:09.583613",
     "exception": false,
     "start_time": "2024-11-22T10:55:09.561301",
     "status": "completed"
    },
    "tags": []
   },
   "outputs": [],
   "source": []
  },
  {
   "cell_type": "code",
   "execution_count": null,
   "id": "39907ce9",
   "metadata": {
    "papermill": {
     "duration": 0.022462,
     "end_time": "2024-11-22T10:55:09.626826",
     "exception": false,
     "start_time": "2024-11-22T10:55:09.604364",
     "status": "completed"
    },
    "tags": []
   },
   "outputs": [],
   "source": []
  }
 ],
 "metadata": {
  "kaggle": {
   "accelerator": "none",
   "dataSources": [
    {
     "databundleVersionId": 9578279,
     "sourceId": 85062,
     "sourceType": "competition"
    }
   ],
   "dockerImageVersionId": 30786,
   "isGpuEnabled": false,
   "isInternetEnabled": true,
   "language": "python",
   "sourceType": "notebook"
  },
  "kernelspec": {
   "display_name": "Python 3",
   "language": "python",
   "name": "python3"
  },
  "language_info": {
   "codemirror_mode": {
    "name": "ipython",
    "version": 3
   },
   "file_extension": ".py",
   "mimetype": "text/x-python",
   "name": "python",
   "nbconvert_exporter": "python",
   "pygments_lexer": "ipython3",
   "version": "3.10.14"
  },
  "papermill": {
   "default_parameters": {},
   "duration": 1111.765495,
   "end_time": "2024-11-22T10:55:12.273375",
   "environment_variables": {},
   "exception": null,
   "input_path": "__notebook__.ipynb",
   "output_path": "__notebook__.ipynb",
   "parameters": {},
   "start_time": "2024-11-22T10:36:40.507880",
   "version": "2.6.0"
  }
 },
 "nbformat": 4,
 "nbformat_minor": 5
}
